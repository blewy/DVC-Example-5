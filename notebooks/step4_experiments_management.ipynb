{
 "cells": [
  {
   "cell_type": "code",
   "execution_count": 1,
   "metadata": {},
   "outputs": [
    {
     "name": "stdout",
     "output_type": "stream",
     "text": [
      "/home/dvc-2-iris-demo\n"
     ]
    }
   ],
   "source": [
    "%cd /home/dvc-2-iris-demo"
   ]
  },
  {
   "cell_type": "markdown",
   "metadata": {},
   "source": [
    "# About"
   ]
  },
  {
   "cell_type": "markdown",
   "metadata": {},
   "source": [
    "Here we will create experiments with different configuration and save them as a tags.   \n",
    "Also we will try to add new features - new experiment.\n",
    "\n",
    "Then it will be possible to show and compare metrics for different experiments using _DVC_"
   ]
  },
  {
   "cell_type": "markdown",
   "metadata": {},
   "source": [
    "# Prerequisites"
   ]
  },
  {
   "cell_type": "markdown",
   "metadata": {},
   "source": [
    "Make sure that you performed the stage 5 (_notebook step5_execution_dag.ipynb_) and DVC pipelines exist"
   ]
  },
  {
   "cell_type": "markdown",
   "metadata": {},
   "source": [
    "# Experiments"
   ]
  },
  {
   "cell_type": "markdown",
   "metadata": {},
   "source": [
    "## Overview pipeline_config.yml as is"
   ]
  },
  {
   "cell_type": "code",
   "execution_count": 2,
   "metadata": {},
   "outputs": [
    {
     "name": "stdout",
     "output_type": "stream",
     "text": [
      "project: 7labs/dvc-2-iris-demo\n",
      "name: vision\n",
      "tags: [solution-0-prototype, dev]\n",
      "\n",
      "\n",
      "\n",
      "dataset:\n",
      "\n",
      "  # random state for train/test split\n",
      "  random_state: 42\n",
      "  # source dataset\n",
      "  dataset_csv: data/raw/iris.csv\n",
      "  featured_dataset_csv: data/interim/featured_iris.csv\n",
      "  train_csv: data/processed/train_iris.csv\n",
      "  test_csv: data/processed/test_iris.csv\n",
      "  test_size: 0.2\n",
      "  features_columns_range: ['sepal_length', 'petal_length_to_petal_width']\n",
      "  target_column: species\n",
      "\n",
      "\n",
      "train:\n",
      "  # available estimators:\n",
      "  #     logreg (sklearn.linear_model.LogisticRegression),\n",
      "  #     smv(sklearn.svm.SVC),\n",
      "  #     knn(sklearn.neighbors.KNeighborsClassifier)\n",
      "  estimator_name: 'knn'\n",
      "  # params of GridSearchCV constructor\n",
      "  grid_search_cv_config:\n",
      "    # grid of estimator parameters (see in https://scikit-learn.org/ for specific estimator\n",
      "    param_grid:\n",
      "      n_neighbors: [5,10,15]\n",
      "      leaf_size: [30,60,90]\n",
      "      p: [1,2]\n",
      "    cv: 10\n",
      "\n",
      "\n",
      "evaluate:\n",
      "  metrics_file: eval.txt\n",
      "\n",
      "\n",
      "model:\n",
      "\n",
      "  model_name: model.joblib\n",
      "  models_folder: models\n",
      "\n",
      "\n",
      "report:\n",
      "  reports_folder: experiments\n",
      "\n",
      "\n",
      "split_config:\n",
      "  folder: experiments\n",
      "\n"
     ]
    }
   ],
   "source": [
    "s = open('config/pipeline_config.yml').read()\n",
    "print(s)"
   ]
  },
  {
   "cell_type": "markdown",
   "metadata": {},
   "source": [
    "## 1. LogisticRegression\n",
    "\n",
    "#### As you can see: current estimator in pipelines config is _logistic regression_\n",
    "#### Let update config, in section _train_:_grid_search_cv_config_:_param_grid update parameter _C_:\n",
    "\n",
    "```yaml\n",
    "...\n",
    "        param_grid:\n",
    "              C: [0.1,1.0,10]\n",
    "...\n",
    "```\n",
    "\n",
    "##### as result you should have such parameters:\n",
    "\n",
    "```yaml\n",
    "...\n",
    "train:\n",
    "  estimator_name: 'logreg'\n",
    "  # params of GridSearchCV constructor\n",
    "  grid_search_cv_config:\n",
    "    # grid of estimator parameters (see in https://scikit-learn.org/ for specific estimator\n",
    "    param_grid:\n",
    "      C: [0.1,1.0,10]\n",
    "      max_iter: [5000,6000]\n",
    "      solver: ['lbfgs', 'sag']\n",
    "      multi_class: ['multinomial']\n",
    "    cv: 10\n",
    "...\n",
    "```\n",
    "\n",
    "#### Then reproduce pipelines\n",
    "\n",
    "```bash\n",
    "dvc repro pipeline_evaluate.dvc\n",
    "```\n",
    "\n",
    "\n",
    "#### Commit new experiment\n",
    "\n",
    "##### add to commit main config and DVC pipeline files\n",
    "```bash\n",
    "git add config/pipeline_config.yml *.dvc\n",
    "```\n",
    "##### make commit and tag\n",
    "```bash\n",
    "git commit -m \"create experiment with estimator LogisticRegression\"\n",
    "git tag -a \"exp1-logreg\" -m \"create experiment with estimator LogisticRegression\"\n",
    "```\n",
    "\n"
   ]
  },
  {
   "cell_type": "code",
   "execution_count": null,
   "metadata": {},
   "outputs": [],
   "source": []
  },
  {
   "cell_type": "markdown",
   "metadata": {},
   "source": [
    "## 2. SVM\n",
    "\n",
    "#### Open pipeline config again.\n",
    "\n",
    "#### In section _train_ change parameters - set up parameters to use estimator SVM:\n",
    "\n",
    "```yaml\n",
    "...\n",
    "train:\n",
    "    estimator_name: 'svm'\n",
    "    # params of GridSearchCV constructor\n",
    "    grid_search_cv_config:\n",
    "      # grid of estimator parameters (see in https://scikit-learn.org/ for specific estimator\n",
    "      param_grid:\n",
    "        C: [0.1,1.0]\n",
    "        kernel: [\"rbf\", \"linear\"]\n",
    "        gamma: [\"scale\"]\n",
    "        degree: [3,5]\n",
    "    cv: 10\n",
    "...\n",
    "```\n",
    "\n",
    "#### Reproduce pipelines\n",
    "\n",
    "```bash\n",
    "dvc repro pipeline_evaluate.dvc\n",
    "```\n",
    "\n",
    "#### Commit new experiment\n",
    "\n",
    "##### add to commit main config and DVC pipeline files\n",
    "```bash\n",
    "git add config/pipeline_config.yml *.dvc\n",
    "```\n",
    "##### make commit and tag\n",
    "```bash\n",
    "git commit -m \"create experiment with estimator SVM\"\n",
    "git tag -a \"exp2-svm\" -m \"create experiment with estimator SVM\"\n",
    "```"
   ]
  },
  {
   "cell_type": "markdown",
   "metadata": {},
   "source": [
    "## 3. KNN\n",
    "\n",
    "#### Make experiment with estimator kNN like with SMV;\n",
    "#### use, for example, such config:\n",
    "\n",
    "\n",
    "```bash\n",
    "...\n",
    "train:\n",
    "    estimator_name: 'knn'\n",
    "    # params of GridSearchCV constructor\n",
    "    grid_search_cv_config:\n",
    "      # grid of estimator parameters (see in https://scikit-learn.org/ for specific estimator\n",
    "      param_grid:\n",
    "        n_neighbors: [5,10,15]\n",
    "        leaf_size: [30,60,90]\n",
    "        p: [1,2]\n",
    "    cv: 10\n",
    "...\n",
    "```"
   ]
  },
  {
   "cell_type": "markdown",
   "metadata": {},
   "source": [
    "# 4. Add new features\n",
    "\n",
    "#### Here we won't change config, but will create experiment, based on new features\n",
    "#### Open module _src/features/features.py_ and after string\n",
    "\n",
    "```python\n",
    "dataset['petal_width_in_square'] = dataset['petal_width'] ** 2\n",
    "```\n",
    "\n",
    "    # uncomment for exp 2\n",
    "    # features['sepal_length_squared'] = features['sepal_length'] ** 2\n",
    "    # features['sepal_width_squared'] = features['sepal_width'] ** 2\n",
    "\n",
    "    # uncomment for exp 3\n",
    "    # features['petal_length_squared'] = features['petal_length'] ** 2\n",
    "    # features['petal_width_squared'] = features['petal_width'] ** 2\n",
    "\n",
    "#### Now we can reproduce pipelines:\n",
    "\n",
    "```bash\n",
    "dvc repro -f pipeline_evaluate.dvc\n",
    "```\n",
    "#### __Note__: here we have to reproduce pipelines forcibly, because module _src/features/features.py_ is not dependecy in some DVC pipeline, just pipeline modules (located in _src/pipelines_) are dependencies of DVC pipelines\n",
    "\n",
    "#### Don't forget make commit and create new tag:\n",
    "\n",
    "```bash\n",
    "git add src/features/features.py *.dvc\n",
    "git commit -m \"create new features - cubes of sizes\"\n",
    "git tag -a \"exp4-cubes-of-sizes\" -m \"create new features - cubes of sizes\"\n",
    "```"
   ]
  },
  {
   "cell_type": "markdown",
   "metadata": {},
   "source": [
    "# Reproduce experiment"
   ]
  },
  {
   "cell_type": "markdown",
   "metadata": {},
   "source": [
    "#### Experiments can be reproduced\n",
    "\n",
    "#### List experiments\n",
    "```bash\n",
    "git tag --list\n",
    "```\n",
    "##### output\n",
    "```bash\n",
    "exp1-logreg\n",
    "exp2-svm\n",
    "exp3-knn\n",
    "exp4-cubes-of-sizes\n",
    "```\n",
    "\n",
    "#### Select experiment\n",
    "```bash\n",
    "git checkout exp2-svm\n",
    "```\n",
    "\n",
    "#### Reproduce\n",
    "```bash\n",
    "dvc repro pipeline_evaluate.dvc\n",
    "```\n",
    "\n",
    "##### As you'll see, pipelines will not restart, but DVC will take all dependencies and outputs from cache"
   ]
  },
  {
   "cell_type": "markdown",
   "metadata": {},
   "source": [
    "# View and compare metrics"
   ]
  },
  {
   "cell_type": "markdown",
   "metadata": {},
   "source": [
    "#### Now we have some experiments and can view and compare metrics for them\n",
    "\n",
    "#### View last experiment metrics:\n",
    "```bash\n",
    "dvc metrics show\n",
    "```\n",
    "\n",
    "#### View and compare metrics for all tags:\n",
    "```bash\n",
    "dvc metrics show -T\n",
    "```"
   ]
  },
  {
   "cell_type": "code",
   "execution_count": null,
   "metadata": {},
   "outputs": [],
   "source": []
  }
 ],
 "metadata": {
  "kernelspec": {
   "display_name": "Python 3",
   "language": "python",
   "name": "python3"
  },
  "language_info": {
   "codemirror_mode": {
    "name": "ipython",
    "version": 3
   },
   "file_extension": ".py",
   "mimetype": "text/x-python",
   "name": "python",
   "nbconvert_exporter": "python",
   "pygments_lexer": "ipython3",
   "version": "3.7.3"
  },
  "toc": {
   "base_numbering": 1,
   "nav_menu": {},
   "number_sections": true,
   "sideBar": true,
   "skip_h1_title": false,
   "title_cell": "Table of Contents",
   "title_sidebar": "Contents",
   "toc_cell": false,
   "toc_position": {},
   "toc_section_display": true,
   "toc_window_display": true
  },
  "varInspector": {
   "cols": {
    "lenName": 16,
    "lenType": 16,
    "lenVar": 40
   },
   "kernels_config": {
    "python": {
     "delete_cmd_postfix": "",
     "delete_cmd_prefix": "del ",
     "library": "var_list.py",
     "varRefreshCmd": "print(var_dic_list())"
    },
    "r": {
     "delete_cmd_postfix": ") ",
     "delete_cmd_prefix": "rm(",
     "library": "var_list.r",
     "varRefreshCmd": "cat(var_dic_list()) "
    }
   },
   "types_to_exclude": [
    "module",
    "function",
    "builtin_function_or_method",
    "instance",
    "_Feature"
   ],
   "window_display": false
  }
 },
 "nbformat": 4,
 "nbformat_minor": 2
}
