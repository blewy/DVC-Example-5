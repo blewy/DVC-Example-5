{
 "cells": [
  {
   "cell_type": "markdown",
   "metadata": {},
   "source": [
    "# Preparation"
   ]
  },
  {
   "cell_type": "code",
   "execution_count": 1,
   "metadata": {},
   "outputs": [
    {
     "name": "stdout",
     "output_type": "stream",
     "text": [
      "/home/dvc-2-iris-demo\n"
     ]
    }
   ],
   "source": [
    "%cd /home/dvc-2-iris-demo"
   ]
  },
  {
   "cell_type": "code",
   "execution_count": 2,
   "metadata": {},
   "outputs": [
    {
     "data": {
      "text/plain": [
       "{'project': '7labs/dvc-2-iris-demo',\n",
       " 'name': 'vision',\n",
       " 'tags': ['solution-0-prototype', 'dev'],\n",
       " 'dataset': {'random_state': 42,\n",
       "  'dataset_csv': 'data/raw/iris.csv',\n",
       "  'featured_dataset_csv': 'data/interim/featured_iris.csv',\n",
       "  'train_csv': 'data/processed/train_iris.csv',\n",
       "  'test_csv': 'data/processed/test_iris.csv',\n",
       "  'test_size': 0.2,\n",
       "  'features_columns_range': ['sepal_length', 'petal_length_to_petal_width'],\n",
       "  'target_column': 'species'},\n",
       " 'train': {'estimator_name': 'knn',\n",
       "  'grid_search_cv_config': {'param_grid': {'n_neighbors': [5, 10, 15],\n",
       "    'leaf_size': [30, 60, 90],\n",
       "    'p': [1, 2]},\n",
       "   'cv': 10}},\n",
       " 'evaluate': {'metrics_file': 'eval.txt'},\n",
       " 'model': {'model_name': 'model.joblib', 'models_folder': 'models'},\n",
       " 'report': {'reports_folder': 'experiments'},\n",
       " 'split_config': {'folder': 'experiments'}}"
      ]
     },
     "execution_count": 2,
     "metadata": {},
     "output_type": "execute_result"
    }
   ],
   "source": [
    "import yaml\n",
    "\n",
    "# Look on pipelines config \n",
    "config = yaml.load(open('config/pipeline_config.yml'), Loader=yaml.FullLoader)\n",
    "\n",
    "config"
   ]
  },
  {
   "cell_type": "markdown",
   "metadata": {},
   "source": [
    "# Prepare configs"
   ]
  },
  {
   "cell_type": "code",
   "execution_count": 3,
   "metadata": {},
   "outputs": [],
   "source": [
    "!python src/pipelines/prepare_configs.py --config=config/pipeline_config.yml"
   ]
  },
  {
   "cell_type": "markdown",
   "metadata": {},
   "source": [
    "## Browse folder with configs"
   ]
  },
  {
   "cell_type": "code",
   "execution_count": 4,
   "metadata": {},
   "outputs": [
    {
     "name": "stdout",
     "output_type": "stream",
     "text": [
      "evaluate_model_config.yml  split_train_test_config.yml\n",
      "featurize_config.yml\t   train_clf_config.yml\n"
     ]
    }
   ],
   "source": [
    "!ls experiments/"
   ]
  },
  {
   "cell_type": "markdown",
   "metadata": {},
   "source": [
    "# Extract features"
   ]
  },
  {
   "cell_type": "code",
   "execution_count": 5,
   "metadata": {},
   "outputs": [
    {
     "name": "stdout",
     "output_type": "stream",
     "text": [
      "dataset_csv: data/raw/iris.csv\n",
      "featured_dataset_csv: data/interim/featured_iris.csv\n"
     ]
    }
   ],
   "source": [
    "# featurization config\n",
    "!cat experiments/featurize_config.yml"
   ]
  },
  {
   "cell_type": "code",
   "execution_count": 6,
   "metadata": {},
   "outputs": [],
   "source": [
    "!python src/pipelines/featurize.py --config=experiments/featurize_config.yml"
   ]
  },
  {
   "cell_type": "code",
   "execution_count": 7,
   "metadata": {},
   "outputs": [
    {
     "name": "stdout",
     "output_type": "stream",
     "text": [
      "featured_iris.csv\n"
     ]
    }
   ],
   "source": [
    "# iris dataset with new features is created\n",
    "!ls data/interim"
   ]
  },
  {
   "cell_type": "markdown",
   "metadata": {},
   "source": [
    "# Split train/test dataset"
   ]
  },
  {
   "cell_type": "code",
   "execution_count": 8,
   "metadata": {},
   "outputs": [
    {
     "name": "stdout",
     "output_type": "stream",
     "text": [
      "dataset_csv: data/interim/featured_iris.csv\n",
      "random_state: 42\n",
      "target_column: species\n",
      "test_csv: data/processed/test_iris.csv\n",
      "test_size: 0.2\n",
      "train_csv: data/processed/train_iris.csv\n"
     ]
    }
   ],
   "source": [
    "# split config\n",
    "!cat experiments/split_train_test_config.yml"
   ]
  },
  {
   "cell_type": "code",
   "execution_count": 9,
   "metadata": {},
   "outputs": [],
   "source": [
    "!python src/pipelines/split_train_test.py --config=experiments/split_train_test_config.yml"
   ]
  },
  {
   "cell_type": "code",
   "execution_count": 10,
   "metadata": {},
   "outputs": [
    {
     "name": "stdout",
     "output_type": "stream",
     "text": [
      "test_iris.csv  train_iris.csv\n"
     ]
    }
   ],
   "source": [
    "# train and test datsets are created\n",
    "!ls data/processed/"
   ]
  },
  {
   "cell_type": "markdown",
   "metadata": {},
   "source": [
    "# Train model"
   ]
  },
  {
   "cell_type": "code",
   "execution_count": 11,
   "metadata": {},
   "outputs": [
    {
     "name": "stdout",
     "output_type": "stream",
     "text": [
      "estimator_name: knn\n",
      "features_columns_range:\n",
      "- sepal_length\n",
      "- petal_length_to_petal_width\n",
      "grid_search_cv_config:\n",
      "  cv: 10\n",
      "  param_grid:\n",
      "    leaf_size:\n",
      "    - 30\n",
      "    - 60\n",
      "    - 90\n",
      "    n_neighbors:\n",
      "    - 5\n",
      "    - 10\n",
      "    - 15\n",
      "    p:\n",
      "    - 1\n",
      "    - 2\n",
      "model_name: model.joblib\n",
      "models_folder: models\n",
      "target_column: species\n",
      "train_csv: data/processed/train_iris.csv\n"
     ]
    }
   ],
   "source": [
    "# train config\n",
    "!cat experiments/train_clf_config.yml"
   ]
  },
  {
   "cell_type": "code",
   "execution_count": 12,
   "metadata": {},
   "outputs": [
    {
     "name": "stdout",
     "output_type": "stream",
     "text": [
      "/usr/local/lib/python3.7/site-packages/sklearn/model_selection/_search.py:813: DeprecationWarning: The default of the `iid` parameter will change from True to False in version 0.22 and will be removed in 0.24. This will change numeric results when test-set sizes are unequal.\n",
      "  DeprecationWarning)\n"
     ]
    }
   ],
   "source": [
    "!python src/pipelines/train.py --config=experiments/train_clf_config.yml"
   ]
  },
  {
   "cell_type": "code",
   "execution_count": 13,
   "metadata": {},
   "outputs": [
    {
     "name": "stdout",
     "output_type": "stream",
     "text": [
      "model.joblib\n"
     ]
    }
   ],
   "source": [
    "# model is created\n",
    "!ls models/"
   ]
  },
  {
   "cell_type": "markdown",
   "metadata": {},
   "source": [
    "# Evaluate model "
   ]
  },
  {
   "cell_type": "code",
   "execution_count": 14,
   "metadata": {},
   "outputs": [
    {
     "name": "stdout",
     "output_type": "stream",
     "text": [
      "dataset_csv: data/processed/test_iris.csv\n",
      "features_columns_range:\n",
      "- sepal_length\n",
      "- petal_length_to_petal_width\n",
      "metrics_file: eval.txt\n",
      "model_name: model.joblib\n",
      "models_folder: models\n",
      "reports_folder: experiments\n",
      "target_column: species\n"
     ]
    }
   ],
   "source": [
    "# evaluate config\n",
    "!cat experiments/evaluate_model_config.yml"
   ]
  },
  {
   "cell_type": "code",
   "execution_count": 19,
   "metadata": {},
   "outputs": [],
   "source": [
    "!python src/pipelines/evaluate.py \\\n",
    "    --config=experiments/evaluate_model_config.yml"
   ]
  },
  {
   "cell_type": "code",
   "execution_count": 20,
   "metadata": {},
   "outputs": [
    {
     "name": "stdout",
     "output_type": "stream",
     "text": [
      "eval.txt\t\t   featurize_config.yml\t\ttrain_clf_config.yml\n",
      "evaluate_model_config.yml  split_train_test_config.yml\n"
     ]
    }
   ],
   "source": [
    "# metrics file eval.txt is created\n",
    "!ls experiments"
   ]
  },
  {
   "cell_type": "code",
   "execution_count": 21,
   "metadata": {},
   "outputs": [
    {
     "name": "stdout",
     "output_type": "stream",
     "text": [
      "{\n",
      "    \"f1_score\": 0.9333333333333332,\n",
      "    \"confusion_matrix\": [\n",
      "        [\n",
      "            10,\n",
      "            0,\n",
      "            0\n",
      "        ],\n",
      "        [\n",
      "            0,\n",
      "            9,\n",
      "            2\n",
      "        ],\n",
      "        [\n",
      "            0,\n",
      "            0,\n",
      "            9\n",
      "        ]\n",
      "    ]\n",
      "}"
     ]
    }
   ],
   "source": [
    "!cat experiments/eval.txt"
   ]
  },
  {
   "cell_type": "code",
   "execution_count": 18,
   "metadata": {},
   "outputs": [
    {
     "data": {
      "text/plain": [
       "{'f1_score': 0.9333333333333332,\n",
       " 'confusion_matrix': [[10, 0, 0], [0, 9, 2], [0, 0, 9]]}"
      ]
     },
     "execution_count": 18,
     "metadata": {},
     "output_type": "execute_result"
    }
   ],
   "source": [
    "evaluate_report = yaml.load(open('experiments/eval.txt'), Loader=yaml.FullLoader)\n",
    "evaluate_report"
   ]
  },
  {
   "cell_type": "code",
   "execution_count": null,
   "metadata": {},
   "outputs": [],
   "source": []
  },
  {
   "cell_type": "code",
   "execution_count": null,
   "metadata": {},
   "outputs": [],
   "source": []
  },
  {
   "cell_type": "code",
   "execution_count": null,
   "metadata": {},
   "outputs": [],
   "source": []
  }
 ],
 "metadata": {
  "kernelspec": {
   "display_name": "Python 3",
   "language": "python",
   "name": "python3"
  },
  "language_info": {
   "codemirror_mode": {
    "name": "ipython",
    "version": 3
   },
   "file_extension": ".py",
   "mimetype": "text/x-python",
   "name": "python",
   "nbconvert_exporter": "python",
   "pygments_lexer": "ipython3",
   "version": "3.7.3"
  },
  "toc": {
   "base_numbering": 1,
   "nav_menu": {},
   "number_sections": true,
   "sideBar": true,
   "skip_h1_title": false,
   "title_cell": "Table of Contents",
   "title_sidebar": "Contents",
   "toc_cell": false,
   "toc_position": {},
   "toc_section_display": true,
   "toc_window_display": true
  },
  "varInspector": {
   "cols": {
    "lenName": 16,
    "lenType": 16,
    "lenVar": 40
   },
   "kernels_config": {
    "python": {
     "delete_cmd_postfix": "",
     "delete_cmd_prefix": "del ",
     "library": "var_list.py",
     "varRefreshCmd": "print(var_dic_list())"
    },
    "r": {
     "delete_cmd_postfix": ") ",
     "delete_cmd_prefix": "rm(",
     "library": "var_list.r",
     "varRefreshCmd": "cat(var_dic_list()) "
    }
   },
   "types_to_exclude": [
    "module",
    "function",
    "builtin_function_or_method",
    "instance",
    "_Feature"
   ],
   "window_display": false
  }
 },
 "nbformat": 4,
 "nbformat_minor": 2
}
