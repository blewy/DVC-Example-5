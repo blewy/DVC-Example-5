{
 "cells": [
  {
   "cell_type": "markdown",
   "metadata": {},
   "source": [
    "# Preparation"
   ]
  },
  {
   "cell_type": "code",
   "execution_count": 1,
   "metadata": {},
   "outputs": [
    {
     "name": "stdout",
     "output_type": "stream",
     "text": [
      "/home/dvc-2-iris-demo\n"
     ]
    }
   ],
   "source": [
    "%cd /home/dvc-2-iris-demo"
   ]
  },
  {
   "cell_type": "markdown",
   "metadata": {},
   "source": [
    "# Load dataset"
   ]
  },
  {
   "cell_type": "code",
   "execution_count": 2,
   "metadata": {},
   "outputs": [],
   "source": [
    "from src.data.dataset import get_dataset"
   ]
  },
  {
   "cell_type": "code",
   "execution_count": 3,
   "metadata": {},
   "outputs": [
    {
     "data": {
      "text/plain": [
       "(150, 5)"
      ]
     },
     "execution_count": 3,
     "metadata": {},
     "output_type": "execute_result"
    }
   ],
   "source": [
    "dataset = get_dataset('data/raw/iris.csv')\n",
    "dataset.shape"
   ]
  },
  {
   "cell_type": "code",
   "execution_count": 4,
   "metadata": {},
   "outputs": [
    {
     "data": {
      "text/html": [
       "<div>\n",
       "<style scoped>\n",
       "    .dataframe tbody tr th:only-of-type {\n",
       "        vertical-align: middle;\n",
       "    }\n",
       "\n",
       "    .dataframe tbody tr th {\n",
       "        vertical-align: top;\n",
       "    }\n",
       "\n",
       "    .dataframe thead th {\n",
       "        text-align: right;\n",
       "    }\n",
       "</style>\n",
       "<table border=\"1\" class=\"dataframe\">\n",
       "  <thead>\n",
       "    <tr style=\"text-align: right;\">\n",
       "      <th></th>\n",
       "      <th>sepal_length</th>\n",
       "      <th>sepal_width</th>\n",
       "      <th>petal_length</th>\n",
       "      <th>petal_width</th>\n",
       "      <th>species</th>\n",
       "    </tr>\n",
       "  </thead>\n",
       "  <tbody>\n",
       "    <tr>\n",
       "      <th>0</th>\n",
       "      <td>5.1</td>\n",
       "      <td>3.5</td>\n",
       "      <td>1.4</td>\n",
       "      <td>0.2</td>\n",
       "      <td>setosa</td>\n",
       "    </tr>\n",
       "    <tr>\n",
       "      <th>1</th>\n",
       "      <td>4.9</td>\n",
       "      <td>3.0</td>\n",
       "      <td>1.4</td>\n",
       "      <td>0.2</td>\n",
       "      <td>setosa</td>\n",
       "    </tr>\n",
       "    <tr>\n",
       "      <th>2</th>\n",
       "      <td>4.7</td>\n",
       "      <td>3.2</td>\n",
       "      <td>1.3</td>\n",
       "      <td>0.2</td>\n",
       "      <td>setosa</td>\n",
       "    </tr>\n",
       "    <tr>\n",
       "      <th>3</th>\n",
       "      <td>4.6</td>\n",
       "      <td>3.1</td>\n",
       "      <td>1.5</td>\n",
       "      <td>0.2</td>\n",
       "      <td>setosa</td>\n",
       "    </tr>\n",
       "    <tr>\n",
       "      <th>4</th>\n",
       "      <td>5.0</td>\n",
       "      <td>3.6</td>\n",
       "      <td>1.4</td>\n",
       "      <td>0.2</td>\n",
       "      <td>setosa</td>\n",
       "    </tr>\n",
       "  </tbody>\n",
       "</table>\n",
       "</div>"
      ],
      "text/plain": [
       "   sepal_length  sepal_width  petal_length  petal_width species\n",
       "0           5.1          3.5           1.4          0.2  setosa\n",
       "1           4.9          3.0           1.4          0.2  setosa\n",
       "2           4.7          3.2           1.3          0.2  setosa\n",
       "3           4.6          3.1           1.5          0.2  setosa\n",
       "4           5.0          3.6           1.4          0.2  setosa"
      ]
     },
     "execution_count": 4,
     "metadata": {},
     "output_type": "execute_result"
    }
   ],
   "source": [
    "dataset.head()"
   ]
  },
  {
   "cell_type": "code",
   "execution_count": 5,
   "metadata": {},
   "outputs": [
    {
     "data": {
      "text/plain": [
       "['sepal_length', 'sepal_width', 'petal_length', 'petal_width']"
      ]
     },
     "execution_count": 5,
     "metadata": {},
     "output_type": "execute_result"
    }
   ],
   "source": [
    "# feature names\n",
    "feature_names = dataset.columns.tolist()[:4]\n",
    "feature_names "
   ]
  },
  {
   "cell_type": "code",
   "execution_count": 6,
   "metadata": {},
   "outputs": [
    {
     "data": {
      "text/plain": [
       "['setosa', 'versicolor', 'virginica']"
      ]
     },
     "execution_count": 6,
     "metadata": {},
     "output_type": "execute_result"
    }
   ],
   "source": [
    "# iris species\n",
    "species = dataset['species'].unique().tolist()\n",
    "species"
   ]
  },
  {
   "cell_type": "markdown",
   "metadata": {},
   "source": [
    "# Features engineering"
   ]
  },
  {
   "cell_type": "code",
   "execution_count": 7,
   "metadata": {},
   "outputs": [],
   "source": [
    "from src.features.features import create_new_features\n"
   ]
  },
  {
   "cell_type": "code",
   "execution_count": 8,
   "metadata": {},
   "outputs": [
    {
     "data": {
      "text/html": [
       "<div>\n",
       "<style scoped>\n",
       "    .dataframe tbody tr th:only-of-type {\n",
       "        vertical-align: middle;\n",
       "    }\n",
       "\n",
       "    .dataframe tbody tr th {\n",
       "        vertical-align: top;\n",
       "    }\n",
       "\n",
       "    .dataframe thead th {\n",
       "        text-align: right;\n",
       "    }\n",
       "</style>\n",
       "<table border=\"1\" class=\"dataframe\">\n",
       "  <thead>\n",
       "    <tr style=\"text-align: right;\">\n",
       "      <th></th>\n",
       "      <th>sepal_length</th>\n",
       "      <th>sepal_width</th>\n",
       "      <th>petal_length</th>\n",
       "      <th>petal_width</th>\n",
       "      <th>sepal_length_in_square</th>\n",
       "      <th>sepal_width_in_square</th>\n",
       "      <th>petal_length_in_square</th>\n",
       "      <th>petal_width_in_square</th>\n",
       "      <th>sepal_length_in_cube</th>\n",
       "      <th>sepal_width_in_cube</th>\n",
       "      <th>petal_length_in_cube</th>\n",
       "      <th>petal_width_in_cube</th>\n",
       "      <th>sepal_length_to_sepal_width</th>\n",
       "      <th>petal_length_to_petal_width</th>\n",
       "      <th>species</th>\n",
       "    </tr>\n",
       "  </thead>\n",
       "  <tbody>\n",
       "    <tr>\n",
       "      <th>0</th>\n",
       "      <td>5.1</td>\n",
       "      <td>3.5</td>\n",
       "      <td>1.4</td>\n",
       "      <td>0.2</td>\n",
       "      <td>26.01</td>\n",
       "      <td>12.25</td>\n",
       "      <td>1.96</td>\n",
       "      <td>0.04</td>\n",
       "      <td>132.651</td>\n",
       "      <td>42.875</td>\n",
       "      <td>2.744</td>\n",
       "      <td>0.008</td>\n",
       "      <td>1.457143</td>\n",
       "      <td>7.0</td>\n",
       "      <td>setosa</td>\n",
       "    </tr>\n",
       "    <tr>\n",
       "      <th>1</th>\n",
       "      <td>4.9</td>\n",
       "      <td>3.0</td>\n",
       "      <td>1.4</td>\n",
       "      <td>0.2</td>\n",
       "      <td>24.01</td>\n",
       "      <td>9.00</td>\n",
       "      <td>1.96</td>\n",
       "      <td>0.04</td>\n",
       "      <td>117.649</td>\n",
       "      <td>27.000</td>\n",
       "      <td>2.744</td>\n",
       "      <td>0.008</td>\n",
       "      <td>1.633333</td>\n",
       "      <td>7.0</td>\n",
       "      <td>setosa</td>\n",
       "    </tr>\n",
       "    <tr>\n",
       "      <th>2</th>\n",
       "      <td>4.7</td>\n",
       "      <td>3.2</td>\n",
       "      <td>1.3</td>\n",
       "      <td>0.2</td>\n",
       "      <td>22.09</td>\n",
       "      <td>10.24</td>\n",
       "      <td>1.69</td>\n",
       "      <td>0.04</td>\n",
       "      <td>103.823</td>\n",
       "      <td>32.768</td>\n",
       "      <td>2.197</td>\n",
       "      <td>0.008</td>\n",
       "      <td>1.468750</td>\n",
       "      <td>6.5</td>\n",
       "      <td>setosa</td>\n",
       "    </tr>\n",
       "    <tr>\n",
       "      <th>3</th>\n",
       "      <td>4.6</td>\n",
       "      <td>3.1</td>\n",
       "      <td>1.5</td>\n",
       "      <td>0.2</td>\n",
       "      <td>21.16</td>\n",
       "      <td>9.61</td>\n",
       "      <td>2.25</td>\n",
       "      <td>0.04</td>\n",
       "      <td>97.336</td>\n",
       "      <td>29.791</td>\n",
       "      <td>3.375</td>\n",
       "      <td>0.008</td>\n",
       "      <td>1.483871</td>\n",
       "      <td>7.5</td>\n",
       "      <td>setosa</td>\n",
       "    </tr>\n",
       "    <tr>\n",
       "      <th>4</th>\n",
       "      <td>5.0</td>\n",
       "      <td>3.6</td>\n",
       "      <td>1.4</td>\n",
       "      <td>0.2</td>\n",
       "      <td>25.00</td>\n",
       "      <td>12.96</td>\n",
       "      <td>1.96</td>\n",
       "      <td>0.04</td>\n",
       "      <td>125.000</td>\n",
       "      <td>46.656</td>\n",
       "      <td>2.744</td>\n",
       "      <td>0.008</td>\n",
       "      <td>1.388889</td>\n",
       "      <td>7.0</td>\n",
       "      <td>setosa</td>\n",
       "    </tr>\n",
       "  </tbody>\n",
       "</table>\n",
       "</div>"
      ],
      "text/plain": [
       "   sepal_length  sepal_width  petal_length  petal_width  \\\n",
       "0           5.1          3.5           1.4          0.2   \n",
       "1           4.9          3.0           1.4          0.2   \n",
       "2           4.7          3.2           1.3          0.2   \n",
       "3           4.6          3.1           1.5          0.2   \n",
       "4           5.0          3.6           1.4          0.2   \n",
       "\n",
       "   sepal_length_in_square  sepal_width_in_square  petal_length_in_square  \\\n",
       "0                   26.01                  12.25                    1.96   \n",
       "1                   24.01                   9.00                    1.96   \n",
       "2                   22.09                  10.24                    1.69   \n",
       "3                   21.16                   9.61                    2.25   \n",
       "4                   25.00                  12.96                    1.96   \n",
       "\n",
       "   petal_width_in_square  sepal_length_in_cube  sepal_width_in_cube  \\\n",
       "0                   0.04               132.651               42.875   \n",
       "1                   0.04               117.649               27.000   \n",
       "2                   0.04               103.823               32.768   \n",
       "3                   0.04                97.336               29.791   \n",
       "4                   0.04               125.000               46.656   \n",
       "\n",
       "   petal_length_in_cube  petal_width_in_cube  sepal_length_to_sepal_width  \\\n",
       "0                 2.744                0.008                     1.457143   \n",
       "1                 2.744                0.008                     1.633333   \n",
       "2                 2.197                0.008                     1.468750   \n",
       "3                 3.375                0.008                     1.483871   \n",
       "4                 2.744                0.008                     1.388889   \n",
       "\n",
       "   petal_length_to_petal_width species  \n",
       "0                          7.0  setosa  \n",
       "1                          7.0  setosa  \n",
       "2                          6.5  setosa  \n",
       "3                          7.5  setosa  \n",
       "4                          7.0  setosa  "
      ]
     },
     "execution_count": 8,
     "metadata": {},
     "output_type": "execute_result"
    }
   ],
   "source": [
    "dataset = create_new_features(dataset)\n",
    "dataset.head()"
   ]
  },
  {
   "cell_type": "markdown",
   "metadata": {},
   "source": [
    "# Split dataset"
   ]
  },
  {
   "cell_type": "code",
   "execution_count": 9,
   "metadata": {},
   "outputs": [],
   "source": [
    "from src.transforms.trainsforms import transform_targets_to_numerics, split_dataset_in_train_test"
   ]
  },
  {
   "cell_type": "code",
   "execution_count": 10,
   "metadata": {},
   "outputs": [],
   "source": [
    "test_size = 0.2\n",
    "random_state = 42"
   ]
  },
  {
   "cell_type": "markdown",
   "metadata": {},
   "source": [
    "## transform targets (species) to numerics"
   ]
  },
  {
   "cell_type": "code",
   "execution_count": 11,
   "metadata": {},
   "outputs": [
    {
     "data": {
      "text/html": [
       "<div>\n",
       "<style scoped>\n",
       "    .dataframe tbody tr th:only-of-type {\n",
       "        vertical-align: middle;\n",
       "    }\n",
       "\n",
       "    .dataframe tbody tr th {\n",
       "        vertical-align: top;\n",
       "    }\n",
       "\n",
       "    .dataframe thead th {\n",
       "        text-align: right;\n",
       "    }\n",
       "</style>\n",
       "<table border=\"1\" class=\"dataframe\">\n",
       "  <thead>\n",
       "    <tr style=\"text-align: right;\">\n",
       "      <th></th>\n",
       "      <th>sepal_length</th>\n",
       "      <th>sepal_width</th>\n",
       "      <th>petal_length</th>\n",
       "      <th>petal_width</th>\n",
       "      <th>sepal_length_in_square</th>\n",
       "      <th>sepal_width_in_square</th>\n",
       "      <th>petal_length_in_square</th>\n",
       "      <th>petal_width_in_square</th>\n",
       "      <th>sepal_length_in_cube</th>\n",
       "      <th>sepal_width_in_cube</th>\n",
       "      <th>petal_length_in_cube</th>\n",
       "      <th>petal_width_in_cube</th>\n",
       "      <th>sepal_length_to_sepal_width</th>\n",
       "      <th>petal_length_to_petal_width</th>\n",
       "      <th>species</th>\n",
       "    </tr>\n",
       "  </thead>\n",
       "  <tbody>\n",
       "    <tr>\n",
       "      <th>0</th>\n",
       "      <td>5.1</td>\n",
       "      <td>3.5</td>\n",
       "      <td>1.4</td>\n",
       "      <td>0.2</td>\n",
       "      <td>26.01</td>\n",
       "      <td>12.25</td>\n",
       "      <td>1.96</td>\n",
       "      <td>0.04</td>\n",
       "      <td>132.651</td>\n",
       "      <td>42.875</td>\n",
       "      <td>2.744</td>\n",
       "      <td>0.008</td>\n",
       "      <td>1.457143</td>\n",
       "      <td>7.0</td>\n",
       "      <td>0</td>\n",
       "    </tr>\n",
       "    <tr>\n",
       "      <th>1</th>\n",
       "      <td>4.9</td>\n",
       "      <td>3.0</td>\n",
       "      <td>1.4</td>\n",
       "      <td>0.2</td>\n",
       "      <td>24.01</td>\n",
       "      <td>9.00</td>\n",
       "      <td>1.96</td>\n",
       "      <td>0.04</td>\n",
       "      <td>117.649</td>\n",
       "      <td>27.000</td>\n",
       "      <td>2.744</td>\n",
       "      <td>0.008</td>\n",
       "      <td>1.633333</td>\n",
       "      <td>7.0</td>\n",
       "      <td>0</td>\n",
       "    </tr>\n",
       "    <tr>\n",
       "      <th>2</th>\n",
       "      <td>4.7</td>\n",
       "      <td>3.2</td>\n",
       "      <td>1.3</td>\n",
       "      <td>0.2</td>\n",
       "      <td>22.09</td>\n",
       "      <td>10.24</td>\n",
       "      <td>1.69</td>\n",
       "      <td>0.04</td>\n",
       "      <td>103.823</td>\n",
       "      <td>32.768</td>\n",
       "      <td>2.197</td>\n",
       "      <td>0.008</td>\n",
       "      <td>1.468750</td>\n",
       "      <td>6.5</td>\n",
       "      <td>0</td>\n",
       "    </tr>\n",
       "    <tr>\n",
       "      <th>3</th>\n",
       "      <td>4.6</td>\n",
       "      <td>3.1</td>\n",
       "      <td>1.5</td>\n",
       "      <td>0.2</td>\n",
       "      <td>21.16</td>\n",
       "      <td>9.61</td>\n",
       "      <td>2.25</td>\n",
       "      <td>0.04</td>\n",
       "      <td>97.336</td>\n",
       "      <td>29.791</td>\n",
       "      <td>3.375</td>\n",
       "      <td>0.008</td>\n",
       "      <td>1.483871</td>\n",
       "      <td>7.5</td>\n",
       "      <td>0</td>\n",
       "    </tr>\n",
       "    <tr>\n",
       "      <th>4</th>\n",
       "      <td>5.0</td>\n",
       "      <td>3.6</td>\n",
       "      <td>1.4</td>\n",
       "      <td>0.2</td>\n",
       "      <td>25.00</td>\n",
       "      <td>12.96</td>\n",
       "      <td>1.96</td>\n",
       "      <td>0.04</td>\n",
       "      <td>125.000</td>\n",
       "      <td>46.656</td>\n",
       "      <td>2.744</td>\n",
       "      <td>0.008</td>\n",
       "      <td>1.388889</td>\n",
       "      <td>7.0</td>\n",
       "      <td>0</td>\n",
       "    </tr>\n",
       "  </tbody>\n",
       "</table>\n",
       "</div>"
      ],
      "text/plain": [
       "   sepal_length  sepal_width  petal_length  petal_width  \\\n",
       "0           5.1          3.5           1.4          0.2   \n",
       "1           4.9          3.0           1.4          0.2   \n",
       "2           4.7          3.2           1.3          0.2   \n",
       "3           4.6          3.1           1.5          0.2   \n",
       "4           5.0          3.6           1.4          0.2   \n",
       "\n",
       "   sepal_length_in_square  sepal_width_in_square  petal_length_in_square  \\\n",
       "0                   26.01                  12.25                    1.96   \n",
       "1                   24.01                   9.00                    1.96   \n",
       "2                   22.09                  10.24                    1.69   \n",
       "3                   21.16                   9.61                    2.25   \n",
       "4                   25.00                  12.96                    1.96   \n",
       "\n",
       "   petal_width_in_square  sepal_length_in_cube  sepal_width_in_cube  \\\n",
       "0                   0.04               132.651               42.875   \n",
       "1                   0.04               117.649               27.000   \n",
       "2                   0.04               103.823               32.768   \n",
       "3                   0.04                97.336               29.791   \n",
       "4                   0.04               125.000               46.656   \n",
       "\n",
       "   petal_length_in_cube  petal_width_in_cube  sepal_length_to_sepal_width  \\\n",
       "0                 2.744                0.008                     1.457143   \n",
       "1                 2.744                0.008                     1.633333   \n",
       "2                 2.197                0.008                     1.468750   \n",
       "3                 3.375                0.008                     1.483871   \n",
       "4                 2.744                0.008                     1.388889   \n",
       "\n",
       "   petal_length_to_petal_width  species  \n",
       "0                          7.0        0  \n",
       "1                          7.0        0  \n",
       "2                          6.5        0  \n",
       "3                          7.5        0  \n",
       "4                          7.0        0  "
      ]
     },
     "execution_count": 11,
     "metadata": {},
     "output_type": "execute_result"
    }
   ],
   "source": [
    "dataset = transform_targets_to_numerics(dataset, 'species')\n",
    "dataset.head()"
   ]
  },
  {
   "cell_type": "markdown",
   "metadata": {},
   "source": [
    "## Split in train/test"
   ]
  },
  {
   "cell_type": "code",
   "execution_count": 12,
   "metadata": {},
   "outputs": [
    {
     "data": {
      "text/plain": [
       "((120, 15), (30, 15))"
      ]
     },
     "execution_count": 12,
     "metadata": {},
     "output_type": "execute_result"
    }
   ],
   "source": [
    "train_dataset, test_dataset = split_dataset_in_train_test(dataset, test_size=test_size, random_state=random_state)\n",
    "train_dataset.shape, test_dataset.shape"
   ]
  },
  {
   "cell_type": "markdown",
   "metadata": {},
   "source": [
    "# Train"
   ]
  },
  {
   "cell_type": "code",
   "execution_count": 13,
   "metadata": {},
   "outputs": [],
   "source": [
    "from src.train.train import get_supported_estimator, train"
   ]
  },
  {
   "cell_type": "code",
   "execution_count": 14,
   "metadata": {},
   "outputs": [
    {
     "data": {
      "text/plain": [
       "{'logreg': sklearn.linear_model.logistic.LogisticRegression,\n",
       " 'svm': sklearn.svm.classes.SVC,\n",
       " 'knn': sklearn.neighbors.classification.KNeighborsClassifier}"
      ]
     },
     "execution_count": 14,
     "metadata": {},
     "output_type": "execute_result"
    }
   ],
   "source": [
    "# supported classifiers\n",
    "get_supported_estimator()"
   ]
  },
  {
   "cell_type": "code",
   "execution_count": 15,
   "metadata": {},
   "outputs": [],
   "source": [
    "estimator_name = 'logreg'\n",
    "grid_search_cv_config = {\n",
    "    'param_grid':{ \n",
    "        'C': [0.001,0.01],\n",
    "        'max_iter': [5000,6000],\n",
    "        'solver': ['lbfgs', 'sag'],\n",
    "        'multi_class': ['multinomial']\n",
    "    },\n",
    "    'scoring': 'f1_macro',\n",
    "    'cv': 10\n",
    "}"
   ]
  },
  {
   "cell_type": "code",
   "execution_count": 21,
   "metadata": {},
   "outputs": [
    {
     "name": "stderr",
     "output_type": "stream",
     "text": [
      "/usr/local/lib/python3.7/site-packages/sklearn/linear_model/sag.py:337: ConvergenceWarning: The max_iter was reached which means the coef_ did not converge\n",
      "  \"the coef_ did not converge\", ConvergenceWarning)\n"
     ]
    }
   ],
   "source": [
    "model = train(\n",
    "    df=dataset,\n",
    "    features_columns_range=['sepal_length', 'petal_length_to_petal_width'],\n",
    "    target_column='species',\n",
    "    estimator_name=estimator_name,\n",
    "    grid_search_cv_config=grid_search_cv_config\n",
    ")"
   ]
  },
  {
   "cell_type": "code",
   "execution_count": 22,
   "metadata": {},
   "outputs": [
    {
     "data": {
      "text/plain": [
       "LogisticRegression(C=1.0, class_weight=None, dual=False, fit_intercept=True,\n",
       "                   intercept_scaling=1, l1_ratio=None, max_iter=5000,\n",
       "                   multi_class='multinomial', n_jobs=None, penalty='l2',\n",
       "                   random_state=None, solver='lbfgs', tol=0.0001, verbose=0,\n",
       "                   warm_start=False)"
      ]
     },
     "execution_count": 22,
     "metadata": {},
     "output_type": "execute_result"
    }
   ],
   "source": [
    "model.best_estimator_"
   ]
  },
  {
   "cell_type": "markdown",
   "metadata": {},
   "source": [
    "# Evaluate"
   ]
  },
  {
   "cell_type": "code",
   "execution_count": 23,
   "metadata": {},
   "outputs": [],
   "source": [
    "from src.evaluate.evaluate import evaluate\n",
    "from src.report.visualize import plot_confusion_matrix"
   ]
  },
  {
   "cell_type": "code",
   "execution_count": 24,
   "metadata": {},
   "outputs": [],
   "source": [
    "f1, cm = evaluate(\n",
    "    df=dataset,\n",
    "    features_columns_range=['sepal_length', 'petal_length_to_petal_width'],\n",
    "    target_column='species',\n",
    "    clf=model\n",
    ")"
   ]
  },
  {
   "cell_type": "code",
   "execution_count": 25,
   "metadata": {},
   "outputs": [
    {
     "data": {
      "text/plain": [
       "0.9866666666666667"
      ]
     },
     "execution_count": 25,
     "metadata": {},
     "output_type": "execute_result"
    }
   ],
   "source": [
    "f1"
   ]
  },
  {
   "cell_type": "code",
   "execution_count": 26,
   "metadata": {},
   "outputs": [
    {
     "data": {
      "image/png": "[encoded data removed]",
      "text/plain": [
       "<Figure size 576x432 with 2 Axes>"
      ]
     },
     "metadata": {
      "needs_background": "light"
     },
     "output_type": "display_data"
    }
   ],
   "source": [
    "plot_confusion_matrix(cm, species, normalize=False)"
   ]
  },
  {
   "cell_type": "code",
   "execution_count": null,
   "metadata": {},
   "outputs": [],
   "source": []
  }
 ],
 "metadata": {
  "kernelspec": {
   "display_name": "Python 3",
   "language": "python",
   "name": "python3"
  },
  "language_info": {
   "codemirror_mode": {
    "name": "ipython",
    "version": 3
   },
   "file_extension": ".py",
   "mimetype": "text/x-python",
   "name": "python",
   "nbconvert_exporter": "python",
   "pygments_lexer": "ipython3",
   "version": "3.7.3"
  },
  "toc": {
   "base_numbering": 1,
   "nav_menu": {},
   "number_sections": true,
   "sideBar": true,
   "skip_h1_title": false,
   "title_cell": "Table of Contents",
   "title_sidebar": "Contents",
   "toc_cell": false,
   "toc_position": {},
   "toc_section_display": true,
   "toc_window_display": true
  },
  "varInspector": {
   "cols": {
    "lenName": 16,
    "lenType": 16,
    "lenVar": 40
   },
   "kernels_config": {
    "python": {
     "delete_cmd_postfix": "",
     "delete_cmd_prefix": "del ",
     "library": "var_list.py",
     "varRefreshCmd": "print(var_dic_list())"
    },
    "r": {
     "delete_cmd_postfix": ") ",
     "delete_cmd_prefix": "rm(",
     "library": "var_list.r",
     "varRefreshCmd": "cat(var_dic_list()) "
    }
   },
   "types_to_exclude": [
    "module",
    "function",
    "builtin_function_or_method",
    "instance",
    "_Feature"
   ],
   "window_display": false
  }
 },
 "nbformat": 4,
 "nbformat_minor": 2
}
