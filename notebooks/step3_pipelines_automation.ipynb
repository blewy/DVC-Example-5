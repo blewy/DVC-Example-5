{
 "cells": [
  {
   "cell_type": "code",
   "execution_count": null,
   "metadata": {},
   "outputs": [],
   "source": [
    "%cd /home/dvc-2-iris-demo"
   ]
  },
  {
   "cell_type": "markdown",
   "metadata": {},
   "source": [
    "# Init DVC repository"
   ]
  },
  {
   "cell_type": "code",
   "execution_count": null,
   "metadata": {},
   "outputs": [],
   "source": [
    "# Checkout to new branch\n",
    "!git checkout -b experiments\n",
    "\n",
    "# Init DVC repository and setup DVC remote storage\n",
    "!dvc init\n",
    "!dvc remote add -d myremote /tmp"
   ]
  },
  {
   "cell_type": "markdown",
   "metadata": {},
   "source": [
    "# Overview main config"
   ]
  },
  {
   "cell_type": "code",
   "execution_count": null,
   "metadata": {},
   "outputs": [],
   "source": [
    "import yaml\n",
    "\n",
    "config = yaml.safe_load(open('config/pipeline_config.yml'))\n",
    "config"
   ]
  },
  {
   "cell_type": "markdown",
   "metadata": {},
   "source": [
    "# Create and run pipelines"
   ]
  },
  {
   "cell_type": "markdown",
   "metadata": {},
   "source": [
    "## 1. Setup / config"
   ]
  },
  {
   "cell_type": "code",
   "execution_count": null,
   "metadata": {},
   "outputs": [],
   "source": [
    "!dvc run -n prepare_configs \\\n",
    "    -d src/pipelines/prepare_configs.py \\\n",
    "    -d config/pipeline_config.yml \\\n",
    "    -o experiments/split_train_test_config.yml \\\n",
    "    -o experiments/featurize_config.yml \\\n",
    "    -o experiments/train_config.yml \\\n",
    "    -o experiments/evaluate_config.yml \\\n",
    "    python src/pipelines/prepare_configs.py \\\n",
    "        --config=config/pipeline_config.yml"
   ]
  },
  {
   "cell_type": "markdown",
   "metadata": {},
   "source": [
    "## 2. Featurization"
   ]
  },
  {
   "cell_type": "code",
   "execution_count": null,
   "metadata": {},
   "outputs": [],
   "source": [
    "!dvc run -n featurize \\\n",
    "    -d src/pipelines/featurize.py \\\n",
    "    -d experiments/featurize_config.yml \\\n",
    "    -d data/raw/iris.csv \\\n",
    "    -o data/interim/featured_iris.csv \\\n",
    "    python src/pipelines/featurize.py \\\n",
    "        --config=experiments/featurize_config.yml"
   ]
  },
  {
   "cell_type": "markdown",
   "metadata": {},
   "source": [
    "## 3. Split dataset into train/test"
   ]
  },
  {
   "cell_type": "code",
   "execution_count": null,
   "metadata": {},
   "outputs": [],
   "source": [
    "!dvc run -n split_train_test \\\n",
    "    -d src/pipelines/split_train_test.py \\\n",
    "    -d experiments/split_train_test_config.yml \\\n",
    "    -d data/interim/featured_iris.csv \\\n",
    "    -o data/processed/train_iris.csv \\\n",
    "    -o data/processed/test_iris.csv \\\n",
    "    python src/pipelines/split_train_test.py \\\n",
    "        --config=experiments/split_train_test_config.yml \\\n",
    "        --base_config=config/pipeline_config.yml"
   ]
  },
  {
   "cell_type": "markdown",
   "metadata": {},
   "source": [
    "## 4. Train"
   ]
  },
  {
   "cell_type": "code",
   "execution_count": null,
   "metadata": {},
   "outputs": [],
   "source": [
    "!dvc run -n train \\\n",
    "    -d src/pipelines/train.py \\\n",
    "    -d experiments/train_config.yml \\\n",
    "    -d data/processed/train_iris.csv \\\n",
    "    -o models/model.joblib \\\n",
    "    python src/pipelines/train.py \\\n",
    "        --config=experiments/train_config.yml \\\n",
    "        --base_config=config/pipeline_config.yml"
   ]
  },
  {
   "cell_type": "markdown",
   "metadata": {},
   "source": [
    "## 5. Evaluate "
   ]
  },
  {
   "cell_type": "code",
   "execution_count": null,
   "metadata": {},
   "outputs": [],
   "source": [
    "!dvc run -n evaluate \\\n",
    "    -d src/pipelines/evaluate.py \\\n",
    "    -d experiments/evaluate_config.yml \\\n",
    "    -d models/model.joblib \\\n",
    "    -m experiments/eval.txt \\\n",
    "    python src/pipelines/evaluate.py \\\n",
    "        --config=experiments/evaluate_config.yml \\\n",
    "        --base_config=config/pipeline_config.yml"
   ]
  },
  {
   "cell_type": "code",
   "execution_count": null,
   "metadata": {},
   "outputs": [],
   "source": []
  },
  {
   "cell_type": "markdown",
   "metadata": {},
   "source": [
    "# Reproduce pipeline"
   ]
  },
  {
   "cell_type": "markdown",
   "metadata": {},
   "source": [
    "### Evaluate (final stage)"
   ]
  },
  {
   "cell_type": "code",
   "execution_count": null,
   "metadata": {},
   "outputs": [],
   "source": [
    "# Pipeline is up to date. Nothing to reproduce.\n",
    "!dvc repro"
   ]
  },
  {
   "cell_type": "code",
   "execution_count": null,
   "metadata": {},
   "outputs": [],
   "source": [
    "# -f force reproducing pipeline\n",
    "!dvc repro -f"
   ]
  },
  {
   "cell_type": "code",
   "execution_count": null,
   "metadata": {},
   "outputs": [],
   "source": []
  },
  {
   "cell_type": "code",
   "execution_count": null,
   "metadata": {},
   "outputs": [],
   "source": []
  }
 ],
 "metadata": {
  "kernelspec": {
   "display_name": "Python 3",
   "language": "python",
   "name": "python3"
  },
  "language_info": {
   "codemirror_mode": {
    "name": "ipython",
    "version": 3
   },
   "file_extension": ".py",
   "mimetype": "text/x-python",
   "name": "python",
   "nbconvert_exporter": "python",
   "pygments_lexer": "ipython3",
   "version": "3.7.7"
  },
  "toc": {
   "base_numbering": 1,
   "nav_menu": {},
   "number_sections": true,
   "sideBar": true,
   "skip_h1_title": false,
   "title_cell": "Table of Contents",
   "title_sidebar": "Contents",
   "toc_cell": false,
   "toc_position": {},
   "toc_section_display": true,
   "toc_window_display": false
  },
  "varInspector": {
   "cols": {
    "lenName": 16,
    "lenType": 16,
    "lenVar": 40
   },
   "kernels_config": {
    "python": {
     "delete_cmd_postfix": "",
     "delete_cmd_prefix": "del ",
     "library": "var_list.py",
     "varRefreshCmd": "print(var_dic_list())"
    },
    "r": {
     "delete_cmd_postfix": ") ",
     "delete_cmd_prefix": "rm(",
     "library": "var_list.r",
     "varRefreshCmd": "cat(var_dic_list()) "
    }
   },
   "types_to_exclude": [
    "module",
    "function",
    "builtin_function_or_method",
    "instance",
    "_Feature"
   ],
   "window_display": false
  }
 },
 "nbformat": 4,
 "nbformat_minor": 4
}
