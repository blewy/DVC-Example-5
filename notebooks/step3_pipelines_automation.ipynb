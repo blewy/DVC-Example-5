{
 "cells": [
  {
   "cell_type": "code",
   "execution_count": 1,
   "metadata": {},
   "outputs": [
    {
     "name": "stdout",
     "output_type": "stream",
     "text": [
      "/home/dvc-2-iris-demo\n"
     ]
    }
   ],
   "source": [
    "%cd /home/dvc-2-iris-demo"
   ]
  },
  {
   "cell_type": "markdown",
   "metadata": {},
   "source": [
    "# Remove old dvc files to avoid dependencies duplication error"
   ]
  },
  {
   "cell_type": "code",
   "execution_count": 2,
   "metadata": {},
   "outputs": [
    {
     "name": "stdout",
     "output_type": "stream",
     "text": [
      "rm: missing operand\n",
      "Try 'rm --help' for more information.\n"
     ]
    }
   ],
   "source": [
    "!rm $(find . -name \"*?.dvc\")"
   ]
  },
  {
   "cell_type": "markdown",
   "metadata": {},
   "source": [
    "# Overview main config"
   ]
  },
  {
   "cell_type": "code",
   "execution_count": 3,
   "metadata": {},
   "outputs": [
    {
     "data": {
      "text/plain": [
       "{'project': '7labs/dvc-2-iris-demo',\n",
       " 'name': 'vision',\n",
       " 'tags': ['solution-0-prototype', 'dev'],\n",
       " 'dataset': {'random_state': 42,\n",
       "  'dataset_csv': 'data/raw/iris.csv',\n",
       "  'featured_dataset_csv': 'data/interim/featured_iris.csv',\n",
       "  'train_csv': 'data/processed/train_iris.csv',\n",
       "  'test_csv': 'data/processed/test_iris.csv',\n",
       "  'test_size': 0.2,\n",
       "  'features_columns_range': ['sepal_length', 'petal_length_to_petal_width'],\n",
       "  'target_column': 'species'},\n",
       " 'train': {'estimator_name': 'knn',\n",
       "  'grid_search_cv_config': {'param_grid': {'n_neighbors': [5, 10, 15],\n",
       "    'leaf_size': [30, 60, 90],\n",
       "    'p': [1, 2]},\n",
       "   'cv': 10}},\n",
       " 'evaluate': {'metrics_file': 'eval.txt'},\n",
       " 'model': {'model_name': 'model.joblib', 'models_folder': 'models'},\n",
       " 'report': {'reports_folder': 'experiments'},\n",
       " 'split_config': {'folder': 'experiments'}}"
      ]
     },
     "execution_count": 3,
     "metadata": {},
     "output_type": "execute_result"
    }
   ],
   "source": [
    "import yaml\n",
    "\n",
    "config = yaml.load(open('config/pipeline_config.yml'), Loader=yaml.FullLoader)\n",
    "config"
   ]
  },
  {
   "cell_type": "markdown",
   "metadata": {},
   "source": [
    "# Create and run pipelines"
   ]
  },
  {
   "cell_type": "markdown",
   "metadata": {},
   "source": [
    "## 1. Setup / config"
   ]
  },
  {
   "cell_type": "code",
   "execution_count": 4,
   "metadata": {},
   "outputs": [
    {
     "name": "stdout",
     "output_type": "stream",
     "text": [
      "\u001b[KRunning command:\n",
      "\tpython src/pipelines/prepare_configs.py --config=config/pipeline_config.yml\n",
      "\u001b[KSaving 'experiments/split_train_test_config.yml' to '.dvc/cache/44/481168099ddd8ff93db809f1379ba1'.\n",
      "\u001b[KSaving 'experiments/featurize_config.yml' to '.dvc/cache/b3/4d1a901c0b24019042c0a7ac206f64'.\n",
      "\u001b[KSaving 'experiments/train_clf_config.yml' to '.dvc/cache/87/60f7b6a461fcde2d8ca675a734ddab'.\n",
      "\u001b[KSaving 'experiments/evaluate_model_config.yml' to '.dvc/cache/7e/fb2e1c27a3219e9b30a5fb7c1b7f1f'.\n",
      "\u001b[KSaving information to 'pipeline_prepare_configs.dvc'.\n",
      "\u001b[K\n",
      "To track the changes with git run:\n",
      "\n",
      "\tgit add pipeline_prepare_configs.dvc\n",
      "\u001b[0m"
     ]
    }
   ],
   "source": [
    "!dvc run -f pipeline_prepare_configs.dvc \\\n",
    "        -d src/pipelines/prepare_configs.py \\\n",
    "        -d config/pipeline_config.yml \\\n",
    "        -o experiments/split_train_test_config.yml \\\n",
    "        -o experiments/featurize_config.yml \\\n",
    "        -o experiments/train_clf_config.yml \\\n",
    "        -o experiments/evaluate_model_config.yml \\\n",
    "        python src/pipelines/prepare_configs.py --config=config/pipeline_config.yml"
   ]
  },
  {
   "cell_type": "markdown",
   "metadata": {},
   "source": [
    "## 2. Featurization"
   ]
  },
  {
   "cell_type": "code",
   "execution_count": 5,
   "metadata": {},
   "outputs": [
    {
     "name": "stdout",
     "output_type": "stream",
     "text": [
      "\u001b[KRunning command:\n",
      "\tpython src/pipelines/featurize.py --config=experiments/featurize_config.yml\n",
      "\u001b[KSaving 'data/interim/featured_iris.csv' to '.dvc/cache/e5/26aa4f251414ac605b5623eb76ecd8'.\n",
      "\u001b[KSaving information to 'pipeline_featurize.dvc'.\n",
      "\u001b[K\n",
      "To track the changes with git run:\n",
      "\n",
      "\tgit add pipeline_featurize.dvc\n",
      "\u001b[0m"
     ]
    }
   ],
   "source": [
    "!dvc run -f pipeline_featurize.dvc \\\n",
    "         -d src/pipelines/featurize.py \\\n",
    "         -d experiments/featurize_config.yml \\\n",
    "         -d data/raw/iris.csv \\\n",
    "         -o data/interim/featured_iris.csv \\\n",
    "         python src/pipelines/featurize.py --config=experiments/featurize_config.yml"
   ]
  },
  {
   "cell_type": "markdown",
   "metadata": {},
   "source": [
    "## 3. Split dataset into train/test"
   ]
  },
  {
   "cell_type": "code",
   "execution_count": 6,
   "metadata": {},
   "outputs": [
    {
     "name": "stdout",
     "output_type": "stream",
     "text": [
      "\u001b[KRunning command:\n",
      "\tpython src/pipelines/split_train_test.py --config=experiments/split_train_test_config.yml\n",
      "\u001b[KSaving 'data/processed/train_iris.csv' to '.dvc/cache/b3/08921440d0e4eb08328f33c7b9f353'.\n",
      "\u001b[KSaving 'data/processed/test_iris.csv' to '.dvc/cache/7c/3831b23101eadee4208ae805e82786'.\n",
      "\u001b[KSaving information to 'pipeline_split_train_test.dvc'.\n",
      "\u001b[K\n",
      "To track the changes with git run:\n",
      "\n",
      "\tgit add pipeline_split_train_test.dvc\n",
      "\u001b[0m"
     ]
    }
   ],
   "source": [
    "!dvc run -f pipeline_split_train_test.dvc \\\n",
    "         -d src/pipelines/split_train_test.py \\\n",
    "         -d experiments/split_train_test_config.yml \\\n",
    "         -d data/interim/featured_iris.csv \\\n",
    "         -o data/processed/train_iris.csv \\\n",
    "         -o data/processed/test_iris.csv \\\n",
    "         python src/pipelines/split_train_test.py --config=experiments/split_train_test_config.yml"
   ]
  },
  {
   "cell_type": "markdown",
   "metadata": {},
   "source": [
    "## 4. Train"
   ]
  },
  {
   "cell_type": "code",
   "execution_count": 7,
   "metadata": {},
   "outputs": [
    {
     "name": "stdout",
     "output_type": "stream",
     "text": [
      "\u001b[KRunning command:\n",
      "\tpython src/pipelines/train.py --config=experiments/train_clf_config.yml\n",
      "/usr/local/lib/python3.7/site-packages/sklearn/model_selection/_search.py:813: DeprecationWarning: The default of the `iid` parameter will change from True to False in version 0.22 and will be removed in 0.24. This will change numeric results when test-set sizes are unequal.\n",
      "  DeprecationWarning)\n",
      "\u001b[KSaving 'models/model.joblib' to '.dvc/cache/10/1bfadcb61f9b59fe9c92d7d7681617'.\n",
      "\u001b[KSaving information to 'pipeline_train.dvc'.\n",
      "\u001b[K\n",
      "To track the changes with git run:\n",
      "\n",
      "\tgit add pipeline_train.dvc\n",
      "\u001b[0m"
     ]
    }
   ],
   "source": [
    "!dvc run -f pipeline_train.dvc \\\n",
    "         -d src/pipelines/train.py \\\n",
    "         -d experiments/train_clf_config.yml \\\n",
    "         -d data/processed/train_iris.csv \\\n",
    "         -o models/model.joblib \\\n",
    "         python src/pipelines/train.py --config=experiments/train_clf_config.yml"
   ]
  },
  {
   "cell_type": "markdown",
   "metadata": {},
   "source": [
    "## 5. Evaluate "
   ]
  },
  {
   "cell_type": "code",
   "execution_count": 8,
   "metadata": {},
   "outputs": [
    {
     "name": "stdout",
     "output_type": "stream",
     "text": [
      "\u001b[KRunning command:\n",
      "\tpython src/pipelines/evaluate.py --config=experiments/evaluate_model_config.yml\n",
      "\u001b[KSaving 'experiments/eval.txt' to '.dvc/cache/00/3cf81be2345d8e2f42c9985f5265cf'.\n",
      "\u001b[KSaving information to 'pipeline_evaluate.dvc'.\n",
      "\u001b[K\n",
      "To track the changes with git run:\n",
      "\n",
      "\tgit add pipeline_evaluate.dvc\n",
      "\u001b[0m"
     ]
    }
   ],
   "source": [
    "!dvc run -f pipeline_evaluate.dvc \\\n",
    "         -d src/pipelines/evaluate.py \\\n",
    "         -d experiments/evaluate_model_config.yml \\\n",
    "         -d models/model.joblib \\\n",
    "         -m experiments/eval.txt \\\n",
    "         python src/pipelines/evaluate.py --config=experiments/evaluate_model_config.yml"
   ]
  },
  {
   "cell_type": "code",
   "execution_count": null,
   "metadata": {},
   "outputs": [],
   "source": []
  },
  {
   "cell_type": "markdown",
   "metadata": {},
   "source": [
    "# Reproduce pipelines"
   ]
  },
  {
   "cell_type": "markdown",
   "metadata": {},
   "source": [
    "## Evaluate (final pipeline)"
   ]
  },
  {
   "cell_type": "markdown",
   "metadata": {},
   "source": [
    "### ordinary repro"
   ]
  },
  {
   "cell_type": "code",
   "execution_count": 9,
   "metadata": {},
   "outputs": [
    {
     "name": "stdout",
     "output_type": "stream",
     "text": [
      "\u001b[KStage 'pipeline_prepare_configs.dvc' didn't change.\n",
      "\u001b[KStage 'pipeline_featurize.dvc' didn't change.\n",
      "\u001b[KStage 'pipeline_split_train_test.dvc' didn't change.\n",
      "\u001b[KStage 'pipeline_train.dvc' didn't change.\n",
      "\u001b[KStage 'pipeline_evaluate.dvc' didn't change.\n",
      "\u001b[KPipeline is up to date. Nothing to reproduce.\n",
      "\u001b[0m"
     ]
    }
   ],
   "source": [
    "!dvc repro pipeline_evaluate.dvc"
   ]
  },
  {
   "cell_type": "markdown",
   "metadata": {},
   "source": [
    "### forcible repro"
   ]
  },
  {
   "cell_type": "code",
   "execution_count": 10,
   "metadata": {},
   "outputs": [
    {
     "name": "stdout",
     "output_type": "stream",
     "text": [
      "\u001b[KStage 'pipeline_prepare_configs.dvc' didn't change.\n",
      "\u001b[KReproducing 'pipeline_prepare_configs.dvc'\n",
      "\u001b[KRunning command:\n",
      "\tpython src/pipelines/prepare_configs.py --config=config/pipeline_config.yml\n",
      "\u001b[KOutput 'experiments/split_train_test_config.yml' didn't change. Skipping saving.\n",
      "\u001b[KOutput 'experiments/featurize_config.yml' didn't change. Skipping saving.\n",
      "\u001b[KOutput 'experiments/train_clf_config.yml' didn't change. Skipping saving.\n",
      "\u001b[KOutput 'experiments/evaluate_model_config.yml' didn't change. Skipping saving.\n",
      "\u001b[K\u001b[33mWARNING\u001b[39m: data 'experiments/split_train_test_config.yml' exists. Removing before checkout.\n",
      "\u001b[K\u001b[33mWARNING\u001b[39m: data 'experiments/featurize_config.yml' exists. Removing before checkout.\n",
      "\u001b[K\u001b[33mWARNING\u001b[39m: data 'experiments/train_clf_config.yml' exists. Removing before checkout.\n",
      "\u001b[K\u001b[33mWARNING\u001b[39m: data 'experiments/evaluate_model_config.yml' exists. Removing before checkout.\n",
      "\u001b[KSaving information to 'pipeline_prepare_configs.dvc'.\n",
      "\u001b[KStage 'pipeline_featurize.dvc' didn't change.\n",
      "\u001b[KReproducing 'pipeline_featurize.dvc'\n",
      "\u001b[KRunning command:\n",
      "\tpython src/pipelines/featurize.py --config=experiments/featurize_config.yml\n",
      "\u001b[KOutput 'data/interim/featured_iris.csv' didn't change. Skipping saving.\n",
      "\u001b[K\u001b[33mWARNING\u001b[39m: data 'data/interim/featured_iris.csv' exists. Removing before checkout.\n",
      "\u001b[KSaving information to 'pipeline_featurize.dvc'.\n",
      "\u001b[KStage 'pipeline_split_train_test.dvc' didn't change.\n",
      "\u001b[KReproducing 'pipeline_split_train_test.dvc'\n",
      "\u001b[KRunning command:\n",
      "\tpython src/pipelines/split_train_test.py --config=experiments/split_train_test_config.yml\n",
      "\u001b[KOutput 'data/processed/train_iris.csv' didn't change. Skipping saving.\n",
      "\u001b[KOutput 'data/processed/test_iris.csv' didn't change. Skipping saving.\n",
      "\u001b[K\u001b[33mWARNING\u001b[39m: data 'data/processed/train_iris.csv' exists. Removing before checkout.\n",
      "\u001b[K\u001b[33mWARNING\u001b[39m: data 'data/processed/test_iris.csv' exists. Removing before checkout.\n",
      "\u001b[KSaving information to 'pipeline_split_train_test.dvc'.\n",
      "\u001b[KStage 'pipeline_train.dvc' didn't change.\n",
      "\u001b[KReproducing 'pipeline_train.dvc'\n",
      "\u001b[KRunning command:\n",
      "\tpython src/pipelines/train.py --config=experiments/train_clf_config.yml\n",
      "/usr/local/lib/python3.7/site-packages/sklearn/model_selection/_search.py:813: DeprecationWarning: The default of the `iid` parameter will change from True to False in version 0.22 and will be removed in 0.24. This will change numeric results when test-set sizes are unequal.\n",
      "  DeprecationWarning)\n",
      "\u001b[KSaving 'models/model.joblib' to '.dvc/cache/73/2cafae97c01181a098b6e27476ad31'.\n",
      "\u001b[KSaving information to 'pipeline_train.dvc'.\n",
      "\u001b[K\u001b[33mWARNING\u001b[39m: Dependency 'models/model.joblib' of 'pipeline_evaluate.dvc' changed because it is 'modified'.\n",
      "\u001b[K\u001b[33mWARNING\u001b[39m: Stage 'pipeline_evaluate.dvc' changed.\n",
      "\u001b[KReproducing 'pipeline_evaluate.dvc'\n",
      "\u001b[KRunning command:\n",
      "\tpython src/pipelines/evaluate.py --config=experiments/evaluate_model_config.yml\n",
      "\u001b[KOutput 'experiments/eval.txt' didn't change. Skipping saving.\n",
      "\u001b[K\u001b[33mWARNING\u001b[39m: data 'experiments/eval.txt' exists. Removing before checkout.\n",
      "\u001b[KSaving information to 'pipeline_evaluate.dvc'.\n",
      "\u001b[K\n",
      "To track the changes with git run:\n",
      "\n",
      "\tgit add pipeline_prepare_configs.dvc pipeline_featurize.dvc pipeline_split_train_test.dvc pipeline_train.dvc pipeline_evaluate.dvc\n",
      "\u001b[0m"
     ]
    }
   ],
   "source": [
    "!dvc repro -f pipeline_evaluate.dvc"
   ]
  },
  {
   "cell_type": "code",
   "execution_count": null,
   "metadata": {},
   "outputs": [],
   "source": []
  },
  {
   "cell_type": "code",
   "execution_count": null,
   "metadata": {},
   "outputs": [],
   "source": []
  },
  {
   "cell_type": "code",
   "execution_count": null,
   "metadata": {},
   "outputs": [],
   "source": []
  }
 ],
 "metadata": {
  "kernelspec": {
   "display_name": "Python 3",
   "language": "python",
   "name": "python3"
  },
  "language_info": {
   "codemirror_mode": {
    "name": "ipython",
    "version": 3
   },
   "file_extension": ".py",
   "mimetype": "text/x-python",
   "name": "python",
   "nbconvert_exporter": "python",
   "pygments_lexer": "ipython3",
   "version": "3.7.3"
  },
  "toc": {
   "base_numbering": 1,
   "nav_menu": {},
   "number_sections": true,
   "sideBar": true,
   "skip_h1_title": false,
   "title_cell": "Table of Contents",
   "title_sidebar": "Contents",
   "toc_cell": false,
   "toc_position": {},
   "toc_section_display": true,
   "toc_window_display": false
  },
  "varInspector": {
   "cols": {
    "lenName": 16,
    "lenType": 16,
    "lenVar": 40
   },
   "kernels_config": {
    "python": {
     "delete_cmd_postfix": "",
     "delete_cmd_prefix": "del ",
     "library": "var_list.py",
     "varRefreshCmd": "print(var_dic_list())"
    },
    "r": {
     "delete_cmd_postfix": ") ",
     "delete_cmd_prefix": "rm(",
     "library": "var_list.r",
     "varRefreshCmd": "cat(var_dic_list()) "
    }
   },
   "types_to_exclude": [
    "module",
    "function",
    "builtin_function_or_method",
    "instance",
    "_Feature"
   ],
   "window_display": false
  }
 },
 "nbformat": 4,
 "nbformat_minor": 2
}
