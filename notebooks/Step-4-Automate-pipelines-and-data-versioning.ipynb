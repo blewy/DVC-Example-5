{
 "cells": [
  {
   "cell_type": "code",
   "execution_count": 1,
   "metadata": {},
   "outputs": [],
   "source": [
    "import os\n",
    "from pathlib import Path\n",
    "import sys\n",
    "import yaml"
   ]
  },
  {
   "cell_type": "code",
   "execution_count": 2,
   "metadata": {},
   "outputs": [
    {
     "name": "stdout",
     "output_type": "stream",
     "text": [
      "/home/alex/Dev/Projects/tutorials/tutorials-dvc/dvc-5-demo-project-iris\n",
      "env: PYTHONPATH=/home/alex/Dev/Projects/tutorials/tutorials-dvc/dvc-5-demo-project-iris\n"
     ]
    }
   ],
   "source": [
    "# Get project root path\n",
    "project_root = Path().absolute().parent.as_posix()\n",
    "sys.path.append(project_root)\n",
    "# Change working directory\n",
    "%cd {project_root}\n",
    "# Set env var PYTHONPATH\n",
    "%env PYTHONPATH={project_root}"
   ]
  },
  {
   "cell_type": "markdown",
   "metadata": {},
   "source": [
    "# Init DVC repository\n",
    "\n",
    "\n",
    "## Checkout to new branch\n",
    "\n",
    "```bash\n",
    "git checkout -b experiments\n",
    "```\n",
    "\n",
    "## Init DVC repository and setup DVC remote storage\n",
    "\n",
    "\n",
    "```bash\n",
    "dvc init\n",
    "dvc remote add -d myremote /tmp\n",
    "```\n",
    "\n",
    "## Add DVC repository under git control\n",
    "\n",
    "```bash\n",
    "git add .\n",
    "git commit -m \"Init and configure DVC\"\n",
    "```"
   ]
  },
  {
   "cell_type": "markdown",
   "metadata": {},
   "source": [
    "# View config"
   ]
  },
  {
   "cell_type": "code",
   "execution_count": 3,
   "metadata": {},
   "outputs": [
    {
     "name": "stdout",
     "output_type": "stream",
     "text": [
      "base:\n",
      "  project: 7labs/dvc-5-demo-project-iris\n",
      "  name: iris\n",
      "  tags: [solution-0-prototype, dev]\n",
      "\n",
      "  model:\n",
      "    model_name: model.joblib\n",
      "    models_folder: models\n",
      "\n",
      "  experiments:\n",
      "    experiments_folder: experiments\n",
      "\n",
      "  random_state: 42 # random state for train/test split\n",
      "\n",
      "\n",
      "data_load:\n",
      "  dataset_csv: data/raw/iris.csv\n",
      "\n",
      "\n",
      "featurize:\n",
      "  features_path: data/interim/featured_iris.csv\n",
      "  target_column: target\n",
      "\n",
      "\n",
      "data_split:\n",
      "  folder: experiments\n",
      "  train_path: data/processed/train_iris.csv\n",
      "  test_path: data/processed/test_iris.csv\n",
      "  test_size: 0.2\n",
      "\n",
      "\n",
      "train:\n",
      "  cv: 5\n",
      "  estimator_name: svm\n",
      "  estimators:\n",
      "\n",
      "    logreg: # sklearn.linear_model.LogisticRegression\n",
      "      param_grid: # params of GridSearchCV constructor\n",
      "        C: [0.001, 0.01]\n",
      "        max_iter: [100]\n",
      "        solver: ['lbfgs']\n",
      "        multi_class: ['multinomial']\n",
      "\n",
      "    svm: # sklearn.svm.SVC\n",
      "      param_grid:\n",
      "        C: [0.1, 1.0]\n",
      "        kernel: [\"rbf\", \"linear\"]\n",
      "        gamma: [\"scale\"]\n",
      "        degree: [3, 5]\n",
      "#\n",
      "#    knn: # sklearn.neighbors.KNeighborsClassifier\n",
      "#      param_grid:\n",
      "#        n_neighbors: [5,15]\n",
      "#        p: [1,2]\n",
      "#\n",
      "\n",
      "\n",
      "\n",
      "evaluate:\n",
      "  metrics_file: metrics.json\n",
      "  confusion_matrix_png: confusion_matrix.png\n",
      "  classes_path: classess.csv\n",
      "\n",
      "\n",
      "\n"
     ]
    }
   ],
   "source": [
    "# Look on pipelines config \n",
    "with open('params.yaml') as conf_file:\n",
    "    config = conf_file.read()\n",
    "print(config)"
   ]
  },
  {
   "cell_type": "markdown",
   "metadata": {},
   "source": [
    "# Set PYTHONPATH\n",
    "\n",
    "Inside project root:\n",
    "\n",
    "```bash\n",
    "export PYTHONPATH=.\n",
    "```"
   ]
  },
  {
   "cell_type": "markdown",
   "metadata": {},
   "source": [
    "# Create and run pipelines\n",
    "\n",
    "## Get data\n",
    "\n",
    "```bash\n",
    "dvc run -n data_load \\\n",
    "    -d src/pipelines/data_load.py \\\n",
    "    -o data/raw/iris.csv \\\n",
    "    -p base,data_load \\\n",
    "    python src/pipelines/data_load.py \\\n",
    "        --config=params.yaml\n",
    "```\n",
    "\n",
    "## Featurization\n",
    "\n",
    "```bash\n",
    "dvc run -n featurize \\\n",
    "    -d src/pipelines/featurize.py \\\n",
    "    -d data/raw/iris.csv \\\n",
    "    -o data/interim/featured_iris.csv \\\n",
    "    -p base,data_load,featurize \\\n",
    "    python src/pipelines/featurize.py \\\n",
    "        --config=params.yaml\n",
    "```\n",
    "\n",
    "## Split dataset into train/test\n",
    "\n",
    "```bash\n",
    "dvc run -n data_split \\\n",
    "    -d src/pipelines/data_split.py \\\n",
    "    -d data/interim/featured_iris.csv \\\n",
    "    -o data/processed/train_iris.csv \\\n",
    "    -o data/processed/test_iris.csv \\\n",
    "    -p base,featurize,data_split \\\n",
    "    python src/pipelines/data_split.py \\\n",
    "        --config=params.yaml\n",
    "```\n",
    "\n",
    "\n",
    "## Train\n",
    "\n",
    "```bash\n",
    "dvc run -n train \\\n",
    "    -d src/pipelines/train.py \\\n",
    "    -d data/processed/train_iris.csv \\\n",
    "    -o models/model.joblib \\\n",
    "    -p base,featurize.target_column,data_split.train_path,train \\\n",
    "    python src/pipelines/train.py \\\n",
    "        --config=params.yaml\n",
    "\n",
    "```\n",
    "\n",
    "## Evaluate \n",
    "\n",
    "```bash\n",
    "dvc run -n evaluate \\\n",
    "    -d src/pipelines/evaluate.py \\\n",
    "    -d data/processed/test_iris.csv \\\n",
    "    -d models/model.joblib \\\n",
    "    -o experiments/confusion_matrix.png \\\n",
    "    -m experiments/metrics.json \\\n",
    "    --plots experiments/classess.csv \\\n",
    "    -p base,featurize.target_column,data_split.test_path,evaluate \\\n",
    "    python src/pipelines/evaluate.py \\\n",
    "        --config=params.yaml\n",
    "```"
   ]
  },
  {
   "cell_type": "markdown",
   "metadata": {},
   "source": [
    "# Reproduce pipeline\n",
    "\n",
    "## Pipeline is up to date. Nothing to reproduce.\n",
    "\n",
    "```bash\n",
    "dvc repro\n",
    "```\n",
    "\n",
    "## -f forced reproducing of pipeline\n",
    "\n",
    "```bash\n",
    "dvc repro -f\n",
    "```"
   ]
  },
  {
   "cell_type": "markdown",
   "metadata": {},
   "source": [
    "# Make commit\n",
    "\n",
    "```bash\n",
    "git add .\n",
    "git commit -m \"Create DVC pipeline\"\n",
    "```"
   ]
  },
  {
   "cell_type": "code",
   "execution_count": null,
   "metadata": {},
   "outputs": [],
   "source": []
  },
  {
   "cell_type": "code",
   "execution_count": null,
   "metadata": {},
   "outputs": [],
   "source": []
  }
 ],
 "metadata": {
  "kernelspec": {
   "display_name": "Python 3",
   "language": "python",
   "name": "python3"
  },
  "language_info": {
   "codemirror_mode": {
    "name": "ipython",
    "version": 3
   },
   "file_extension": ".py",
   "mimetype": "text/x-python",
   "name": "python",
   "nbconvert_exporter": "python",
   "pygments_lexer": "ipython3",
   "version": "3.7.2"
  },
  "toc": {
   "base_numbering": 1,
   "nav_menu": {},
   "number_sections": true,
   "sideBar": true,
   "skip_h1_title": false,
   "title_cell": "Table of Contents",
   "title_sidebar": "Contents",
   "toc_cell": false,
   "toc_position": {},
   "toc_section_display": true,
   "toc_window_display": true
  },
  "varInspector": {
   "cols": {
    "lenName": 16,
    "lenType": 16,
    "lenVar": 40
   },
   "kernels_config": {
    "python": {
     "delete_cmd_postfix": "",
     "delete_cmd_prefix": "del ",
     "library": "var_list.py",
     "varRefreshCmd": "print(var_dic_list())"
    },
    "r": {
     "delete_cmd_postfix": ") ",
     "delete_cmd_prefix": "rm(",
     "library": "var_list.r",
     "varRefreshCmd": "cat(var_dic_list()) "
    }
   },
   "types_to_exclude": [
    "module",
    "function",
    "builtin_function_or_method",
    "instance",
    "_Feature"
   ],
   "window_display": false
  }
 },
 "nbformat": 4,
 "nbformat_minor": 4
}
