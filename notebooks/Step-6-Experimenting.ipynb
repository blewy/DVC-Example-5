{
 "cells": [
  {
   "cell_type": "markdown",
   "metadata": {},
   "source": [
    "# About"
   ]
  },
  {
   "cell_type": "markdown",
   "metadata": {},
   "source": [
    "Here we will create experiments with different configuration and save them as a tags.   \n",
    "Also we will try to add new features - new experiment.\n",
    "\n",
    "Then it will be possible to show and compare metrics for different experiments using _DVC_"
   ]
  },
  {
   "cell_type": "markdown",
   "metadata": {},
   "source": [
    "# Prerequisites"
   ]
  },
  {
   "cell_type": "markdown",
   "metadata": {},
   "source": [
    "Make sure that you performed the stage3 (_notebook step3_pipelines_automation.ipynb_) and DVC pipeline exists"
   ]
  },
  {
   "cell_type": "markdown",
   "metadata": {},
   "source": [
    "# Set PYTHONPATH\n",
    "\n",
    "Inside project root:\n",
    "\n",
    "```bash\n",
    "export PYTHONPATH=.\n",
    "```"
   ]
  },
  {
   "cell_type": "markdown",
   "metadata": {},
   "source": [
    "# Experiment 1 - Tune LogisticRegression"
   ]
  },
  {
   "cell_type": "markdown",
   "metadata": {},
   "source": [
    "## create branch for experiment"
   ]
  },
  {
   "cell_type": "markdown",
   "metadata": {},
   "source": [
    "```bash\n",
    "git checkout -b exp1-tune-logreg\n",
    "git branch\n",
    "```"
   ]
  },
  {
   "cell_type": "markdown",
   "metadata": {},
   "source": [
    "## update config/pipeline_config.yml file\n",
    "\n",
    "add options for **C** hyperparamter in section `train:estimators:logreg:param_grid`:\n",
    "\n",
    "\n",
    "```yaml\n",
    "...\n",
    "        param_grid:\n",
    "              C: [0.1,1.0,10]\n",
    "...\n",
    "```\n",
    "\n",
    "as result you should have LogisticRegression config:\n",
    "\n",
    "```yaml\n",
    "...\n",
    "train:\n",
    "  cv: 3\n",
    "  estimator_name: logreg\n",
    "\n",
    "  estimators:\n",
    "\n",
    "    logreg: # sklearn.linear_model.LogisticRegression\n",
    "      param_grid: # params of GridSearchCV constructor\n",
    "        C: [0.1,1.0,10]\n",
    "        max_iter: [100]\n",
    "        solver: ['lbfgs']\n",
    "        multi_class: ['multinomial']\n",
    "...\n",
    "\n",
    "```\n"
   ]
  },
  {
   "cell_type": "markdown",
   "metadata": {},
   "source": [
    "## Run experiment and save results "
   ]
  },
  {
   "cell_type": "markdown",
   "metadata": {},
   "source": [
    "Reproduce pipeline with new params\n",
    "\n",
    "```bash\n",
    "dvc repro \n",
    "```"
   ]
  },
  {
   "cell_type": "markdown",
   "metadata": {},
   "source": [
    "## Commit experiment results\n",
    "\n",
    "```bash\n",
    "git add .\n",
    "git commit -m \"Experiment 1 with LogisticRegression hyperparameters\"\n",
    "git tag -a \"exp1_tune_logreg\" -m \"Experiment 1 with LogisticRegression hyperparameters\"\n",
    "```"
   ]
  },
  {
   "cell_type": "markdown",
   "metadata": {},
   "source": [
    "## Show metrics \n",
    "\n",
    "```bash\n",
    "dvc metrics show\n",
    "```"
   ]
  },
  {
   "cell_type": "markdown",
   "metadata": {},
   "source": [
    "## Merge results \n",
    "\n",
    "```bash\n",
    "git checkout experiments\n",
    "git merge exp1-tune-logreg && git branch -d exp1-tune-logreg\n",
    "git branch\n",
    "git tag --list\n",
    "```\n",
    "\n",
    "\n",
    "## checkout the specific tag\n",
    "\n",
    "```bash\n",
    "git checkout exp1_tune_logreg\n",
    "git branch\n",
    "```\n",
    "\n",
    "## checkout back to `experiments`:\n",
    "\n",
    "```bash\n",
    "git checkout experiments\n",
    "```"
   ]
  },
  {
   "cell_type": "code",
   "execution_count": null,
   "metadata": {},
   "outputs": [],
   "source": []
  },
  {
   "cell_type": "markdown",
   "metadata": {},
   "source": [
    "# Experiment 2 - Use SVM"
   ]
  },
  {
   "cell_type": "markdown",
   "metadata": {},
   "source": [
    "## create branch for experiment"
   ]
  },
  {
   "cell_type": "markdown",
   "metadata": {},
   "source": [
    "```bash\n",
    "git checkout -b exp2-svm\n",
    "git branch\n",
    "```"
   ]
  },
  {
   "cell_type": "markdown",
   "metadata": {},
   "source": [
    "## add SVC config to config/pipeline_config.yml file\n",
    "\n",
    "in section `train:estimators:logreg:param_grid`:\n",
    "\n",
    "\n",
    "```yaml\n",
    "...\n",
    "        param_grid:\n",
    "              C: [0.1,1.0,10]\n",
    "...\n",
    "```\n",
    "\n",
    "as result you should have SVC config:\n",
    "\n",
    "```yaml\n",
    "...\n",
    "train:\n",
    "  cv: 3\n",
    "  estimator_name: svm\n",
    "  estimators:\n",
    "        \n",
    "    svm: # sklearn.svm.SVC\n",
    "      param_grid:\n",
    "        C: [0.1,1.0,10]\n",
    "        kernel: [\"rbf\", \"linear\"]\n",
    "        gamma: [\"scale\"]\n",
    "        degree: [3, 5]\n",
    "...\n",
    "```\n"
   ]
  },
  {
   "cell_type": "markdown",
   "metadata": {},
   "source": [
    "## Run experiment and save results "
   ]
  },
  {
   "cell_type": "markdown",
   "metadata": {},
   "source": [
    "Reproduce pipeline with new params\n",
    "\n",
    "```bash\n",
    "dvc repro\n",
    "```"
   ]
  },
  {
   "cell_type": "markdown",
   "metadata": {},
   "source": [
    "## Commit experiment results\n",
    "\n",
    "```bash\n",
    "git add .\n",
    "git commit -m \"Experiment 2 with SVM estimator\"\n",
    "git tag -a \"exp2_svm\" -m \"Experiment 2 with SVM estimator\"\n",
    "```"
   ]
  },
  {
   "cell_type": "markdown",
   "metadata": {},
   "source": [
    "## Show metrics \n",
    "\n",
    "```bash\n",
    "dvc metrics show\n",
    "```"
   ]
  },
  {
   "cell_type": "markdown",
   "metadata": {},
   "source": [
    "## Merge results \n",
    "\n",
    "```bash\n",
    "git checkout experiments\n",
    "git merge exp2-svm && git branch -d exp2-svm\n",
    "git branch\n",
    "```"
   ]
  },
  {
   "cell_type": "code",
   "execution_count": null,
   "metadata": {},
   "outputs": [],
   "source": []
  },
  {
   "cell_type": "markdown",
   "metadata": {},
   "source": [
    "# Experiment 3 - Add new features"
   ]
  },
  {
   "cell_type": "markdown",
   "metadata": {},
   "source": [
    "## create branch for experiment"
   ]
  },
  {
   "cell_type": "markdown",
   "metadata": {},
   "source": [
    "```bash\n",
    "git checkout -b exp3-squared-features\n",
    "git branch\n",
    "```"
   ]
  },
  {
   "cell_type": "markdown",
   "metadata": {},
   "source": [
    "## Edit featurization code\n",
    "\n",
    "* open module `src/features/features.py`;\n",
    "* in function `extract_features` after lines:\n",
    "\n",
    "```python\n",
    "    dataset['sepal_length_to_sepal_width'] = dataset['sepal_length'] / dataset['sepal_width']\n",
    "    dataset['petal_length_to_petal_width'] = dataset['petal_length'] / dataset['petal_width']\n",
    "```\n",
    "\n",
    "add lines:\n",
    "\n",
    "```python\n",
    "\n",
    "    # Add new features - squares of old features\n",
    "    for col in dataset.drop('target', axis=1).columns:\n",
    "        dataset[col+'_squared'] = dataset[col] ** 2\n",
    "    \n",
    "```\n",
    ";\n",
    "\n",
    "* then replace lines:\n",
    "\n",
    "```python\n",
    "    \n",
    "    dataset = dataset[[\n",
    "        'sepal_length', 'sepal_width', 'petal_length', 'petal_width',\n",
    "        'sepal_length_to_sepal_width', 'petal_length_to_petal_width',\n",
    "        'target'\n",
    "    ]]\n",
    "```\n",
    "\n",
    "by lines:\n",
    "\n",
    "```python\n",
    "    target = dataset.pop('target')\n",
    "    dataset['target'] = target\n",
    "```"
   ]
  },
  {
   "cell_type": "markdown",
   "metadata": {},
   "source": [
    "## Reproduce pipeline with new params\n",
    "\n",
    "```bash\n",
    "dvc repro -f\n",
    "```"
   ]
  },
  {
   "cell_type": "markdown",
   "metadata": {},
   "source": [
    "## Commit experiment results\n",
    "\n",
    "```bash\n",
    "git add .\n",
    "git commit -m \"Experiment 3 with new features\"\n",
    "git tag -a \"exp3_squared_features\" -m \"Experiment 3 with squared features\"\n",
    "```"
   ]
  },
  {
   "cell_type": "markdown",
   "metadata": {},
   "source": [
    "## Show metrics \n",
    "\n",
    "```bash\n",
    "dvc metrics show\n",
    "```"
   ]
  },
  {
   "cell_type": "markdown",
   "metadata": {},
   "source": [
    "## Merge results \n",
    "\n",
    "```bash\n",
    "git checkout experiments\n",
    "git merge exp3-squared-features && git branch -d exp3-squared-features\n",
    "git branch\n",
    "```"
   ]
  },
  {
   "cell_type": "markdown",
   "metadata": {},
   "source": [
    "## Push artifacts to DVC remote\n",
    "\n",
    "```bash\n",
    "dvc push\n",
    "```"
   ]
  },
  {
   "cell_type": "markdown",
   "metadata": {},
   "source": [
    "# Compare experiments\n",
    "\n",
    "## List experiments\n",
    "\n",
    "```bash\n",
    "git tag --list\n",
    "```\n",
    "\n",
    "## Select experiment (tag)\n",
    "\n",
    "```bash\n",
    "git checkout exp2_svm\n",
    "```\n",
    "\n",
    "## Reproduce\n",
    "\n",
    "```bash\n",
    "dvc repro\n",
    "```\n",
    "\n",
    "## checkout back to `experiments`:\n",
    "\n",
    "```bash\n",
    "git checkout experiments\n",
    "```\n",
    "\n",
    "## View and compare metrics\n",
    "\n",
    "### Last experiment metrics:\n",
    "\n",
    "```bash\n",
    "dvc metrics show\n",
    "```\n",
    "\n",
    "### View and compare metrics for all experiments:\n",
    "\n",
    "```bash\n",
    "dvc metrics show -a\n",
    "```\n",
    "\n",
    "### control metrics view \n",
    "\n",
    "```bash\n",
    "dvc metrics show --show-json -a\n",
    "```\n",
    "\n",
    "### View and compare metrics for all tags:\n",
    "\n",
    "```bash\n",
    "dvc metrics show -T\n",
    "```\n",
    "\n",
    "### Try yourself: Use KNN estimator\n",
    "\n",
    "#### TODO \n",
    "- Make experiment with estimator kNN like with SMV;\n",
    "- use your version fo param_grid\n"
   ]
  },
  {
   "cell_type": "code",
   "execution_count": null,
   "metadata": {},
   "outputs": [],
   "source": []
  }
 ],
 "metadata": {
  "kernelspec": {
   "display_name": "Python 3",
   "language": "python",
   "name": "python3"
  },
  "language_info": {
   "codemirror_mode": {
    "name": "ipython",
    "version": 3
   },
   "file_extension": ".py",
   "mimetype": "text/x-python",
   "name": "python",
   "nbconvert_exporter": "python",
   "pygments_lexer": "ipython3",
   "version": "3.7.3"
  },
  "toc": {
   "base_numbering": 1,
   "nav_menu": {},
   "number_sections": true,
   "sideBar": true,
   "skip_h1_title": false,
   "title_cell": "Table of Contents",
   "title_sidebar": "Contents",
   "toc_cell": false,
   "toc_position": {},
   "toc_section_display": true,
   "toc_window_display": true
  },
  "varInspector": {
   "cols": {
    "lenName": 16,
    "lenType": 16,
    "lenVar": 40
   },
   "kernels_config": {
    "python": {
     "delete_cmd_postfix": "",
     "delete_cmd_prefix": "del ",
     "library": "var_list.py",
     "varRefreshCmd": "print(var_dic_list())"
    },
    "r": {
     "delete_cmd_postfix": ") ",
     "delete_cmd_prefix": "rm(",
     "library": "var_list.r",
     "varRefreshCmd": "cat(var_dic_list()) "
    }
   },
   "types_to_exclude": [
    "module",
    "function",
    "builtin_function_or_method",
    "instance",
    "_Feature"
   ],
   "window_display": false
  }
 },
 "nbformat": 4,
 "nbformat_minor": 4
}
