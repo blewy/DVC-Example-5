{
 "cells": [
  {
   "cell_type": "code",
   "execution_count": 1,
   "metadata": {},
   "outputs": [
    {
     "name": "stdout",
     "output_type": "stream",
     "text": [
      "/home/tutorial-dvc-2-demo-project-iris\n"
     ]
    }
   ],
   "source": [
    "%cd /home/dvc-2-iris-demo/"
   ]
  },
  {
   "cell_type": "code",
   "execution_count": 2,
   "metadata": {},
   "outputs": [
    {
     "name": "stdout",
     "output_type": "stream",
     "text": [
      "\u001b[KPipeline is up to date. Nothing to reproduce.\n",
      "\u001b[0m"
     ]
    }
   ],
   "source": [
    "!dvc status"
   ]
  },
  {
   "cell_type": "markdown",
   "metadata": {},
   "source": [
    "# Remove old dvc files to avoid dependencies duplication error"
   ]
  },
  {
   "cell_type": "code",
   "execution_count": 3,
   "metadata": {},
   "outputs": [
    {
     "name": "stdout",
     "output_type": "stream",
     "text": [
      "rm: missing operand\n",
      "Try 'rm --help' for more information.\n"
     ]
    }
   ],
   "source": [
    "!rm $(find . -name \"*?.dvc\")"
   ]
  },
  {
   "cell_type": "markdown",
   "metadata": {},
   "source": [
    "# 1. Setup / configs"
   ]
  },
  {
   "cell_type": "code",
   "execution_count": 4,
   "metadata": {},
   "outputs": [
    {
     "data": {
      "text/plain": [
       "{'project': '7labs.ru/vision',\n",
       " 'name': 'vision',\n",
       " 'tags': ['solution-0-prototype', 'dev'],\n",
       " 'dataset': {'random_state': 42,\n",
       "  'dataset_csv': 'data/raw/iris.csv',\n",
       "  'featured_dataset_csv': 'data/interim/featured_iris.csv',\n",
       "  'train_csv': 'data/processed/train_iris.csv',\n",
       "  'test_csv': 'data/processed/test_iris.csv',\n",
       "  'test_size': 0.2,\n",
       "  'features_columns_range': ['sepal_length', 'petal_length_to_petal_width'],\n",
       "  'target_column': 'species'},\n",
       " 'train': {'estimator_name': 'logreg',\n",
       "  'grid_search_cv_config': {'param_grid': {'C': [0.1, 1.0],\n",
       "    'max_iter': [5000, 6000],\n",
       "    'solver': ['lbfgs', 'sag'],\n",
       "    'multi_class': ['multinomial']},\n",
       "   'cv': 10}},\n",
       " 'evaluate': {'metrics_file': 'eval.txt'},\n",
       " 'model': {'model_name': 'model.joblib', 'models_folder': 'models'},\n",
       " 'report': {'reports_folder': 'experiments'},\n",
       " 'split_config': {'folder': 'experiments'}}"
      ]
     },
     "execution_count": 4,
     "metadata": {},
     "output_type": "execute_result"
    }
   ],
   "source": [
    "import yaml\n",
    "config = yaml.load(open('config/pipeline_config.yml'), Loader=yaml.FullLoader)\n",
    "\n",
    "config"
   ]
  },
  {
   "cell_type": "markdown",
   "metadata": {},
   "source": [
    "## unprotect pipeline configs (if they exist)"
   ]
  },
  {
   "cell_type": "code",
   "execution_count": 5,
   "metadata": {},
   "outputs": [
    {
     "name": "stdout",
     "output_type": "stream",
     "text": [
      "\u001b[K\u001b[31mERROR\u001b[39m: failed to unprotect 'experiments/*.dvc' - can't unprotect non-existing data 'experiments/*.dvc'\n",
      "\n",
      "\u001b[33mHaving any troubles?\u001b[39m. Hit us up at \u001b[34mhttps://dvc.org/support\u001b[39m, we are always happy to help!\n",
      "\u001b[0m"
     ]
    }
   ],
   "source": [
    "!dvc unprotect experiments/*.dvc"
   ]
  },
  {
   "cell_type": "markdown",
   "metadata": {},
   "source": [
    "## prepare configs"
   ]
  },
  {
   "cell_type": "code",
   "execution_count": 6,
   "metadata": {},
   "outputs": [],
   "source": [
    "!python3 src/pipelines/prepare_configs.py --config=config/pipeline_config.yml"
   ]
  },
  {
   "cell_type": "markdown",
   "metadata": {},
   "source": [
    "## browse folder with configs"
   ]
  },
  {
   "cell_type": "code",
   "execution_count": 7,
   "metadata": {},
   "outputs": [
    {
     "name": "stdout",
     "output_type": "stream",
     "text": [
      "evaluate_model_config.yml  split_train_test_config.yml\n",
      "featurize_config.yml\t   train_clf_config.yml\n"
     ]
    }
   ],
   "source": [
    "!ls experiments/"
   ]
  },
  {
   "cell_type": "markdown",
   "metadata": {},
   "source": [
    "## add configs under DVC control"
   ]
  },
  {
   "cell_type": "code",
   "execution_count": 8,
   "metadata": {},
   "outputs": [
    {
     "name": "stdout",
     "output_type": "stream",
     "text": [
      "\u001b[K\u001b[33mWARNING\u001b[39m: data 'experiments/evaluate_model_config.yml' exists. Removing before checkout.\n",
      "\u001b[KSaving information to 'experiments/evaluate_model_config.yml.dvc'.\n",
      "\u001b[K\n",
      "To track the changes with git run:\n",
      "\n",
      "\tgit add experiments/evaluate_model_config.yml.dvc\n",
      "\u001b[K\u001b[33mWARNING\u001b[39m: data 'experiments/featurize_config.yml' exists. Removing before checkout.\n",
      "\u001b[KSaving information to 'experiments/featurize_config.yml.dvc'.\n",
      "\u001b[K\n",
      "To track the changes with git run:\n",
      "\n",
      "\tgit add experiments/evaluate_model_config.yml.dvc experiments/featurize_config.yml.dvc\n",
      "\u001b[K\u001b[33mWARNING\u001b[39m: data 'experiments/split_train_test_config.yml' exists. Removing before checkout.\n",
      "\u001b[KSaving information to 'experiments/split_train_test_config.yml.dvc'.\n",
      "\u001b[K\n",
      "To track the changes with git run:\n",
      "\n",
      "\tgit add experiments/evaluate_model_config.yml.dvc experiments/featurize_config.yml.dvc experiments/split_train_test_config.yml.dvc\n",
      "\u001b[KSaving 'experiments/train_clf_config.yml' to '.dvc/cache/ba/9d65ebb70207408c4e38dff508fd6c'.\n",
      "\u001b[KSaving information to 'experiments/train_clf_config.yml.dvc'.\n",
      "\u001b[K\n",
      "To track the changes with git run:\n",
      "\n",
      "\tgit add experiments/evaluate_model_config.yml.dvc experiments/featurize_config.yml.dvc experiments/split_train_test_config.yml.dvc experiments/train_clf_config.yml.dvc\n",
      "\u001b[0m"
     ]
    }
   ],
   "source": [
    "!dvc add experiments/*.yml"
   ]
  },
  {
   "cell_type": "code",
   "execution_count": 9,
   "metadata": {},
   "outputs": [
    {
     "name": "stdout",
     "output_type": "stream",
     "text": [
      "\u001b[31m??\u001b[m experiments/evaluate_model_config.yml.dvc\n",
      "\u001b[31m??\u001b[m experiments/featurize_config.yml.dvc\n",
      "\u001b[31m??\u001b[m experiments/split_train_test_config.yml.dvc\n",
      "\u001b[31m??\u001b[m experiments/train_clf_config.yml.dvc\n"
     ]
    }
   ],
   "source": [
    "!git status -s experiments/"
   ]
  },
  {
   "cell_type": "markdown",
   "metadata": {},
   "source": [
    "## commit pipelines configs dvc files"
   ]
  },
  {
   "cell_type": "code",
   "execution_count": null,
   "metadata": {},
   "outputs": [],
   "source": [
    "%%bash\n",
    "\n",
    "git add experiments/\n",
    "git commit -m \"create pipeline configs and put it under DVC control\""
   ]
  },
  {
   "cell_type": "markdown",
   "metadata": {},
   "source": [
    "# 2. Featurization (features engineering)"
   ]
  },
  {
   "cell_type": "markdown",
   "metadata": {},
   "source": [
    "## unprotect data/interim/featured_iris.csv (if it exists)"
   ]
  },
  {
   "cell_type": "code",
   "execution_count": 10,
   "metadata": {},
   "outputs": [
    {
     "name": "stdout",
     "output_type": "stream",
     "text": [
      "\u001b[K\u001b[31mERROR\u001b[39m: failed to unprotect 'data/interim/featured_iris.csv.dvc' - can't unprotect non-existing data 'data/interim/featured_iris.csv.dvc'\n",
      "\n",
      "\u001b[33mHaving any troubles?\u001b[39m. Hit us up at \u001b[34mhttps://dvc.org/support\u001b[39m, we are always happy to help!\n",
      "\u001b[0m"
     ]
    }
   ],
   "source": [
    "!dvc unprotect data/interim/featured_iris.csv.dvc"
   ]
  },
  {
   "cell_type": "markdown",
   "metadata": {},
   "source": [
    "## featurization config"
   ]
  },
  {
   "cell_type": "code",
   "execution_count": 11,
   "metadata": {},
   "outputs": [
    {
     "name": "stdout",
     "output_type": "stream",
     "text": [
      "dataset_csv: data/raw/iris.csv\n",
      "featured_dataset_csv: data/interim/featured_iris.csv\n"
     ]
    }
   ],
   "source": [
    "!cat experiments/featurize_config.yml"
   ]
  },
  {
   "cell_type": "markdown",
   "metadata": {},
   "source": [
    "## create new features"
   ]
  },
  {
   "cell_type": "code",
   "execution_count": 12,
   "metadata": {},
   "outputs": [],
   "source": [
    "!python3 src/pipelines/featurize.py --config=experiments/featurize_config.yml"
   ]
  },
  {
   "cell_type": "code",
   "execution_count": 13,
   "metadata": {},
   "outputs": [
    {
     "name": "stdout",
     "output_type": "stream",
     "text": [
      "featured_iris.csv\n"
     ]
    }
   ],
   "source": [
    "# iris dataset with new features is created\n",
    "!ls data/interim"
   ]
  },
  {
   "cell_type": "markdown",
   "metadata": {},
   "source": [
    "## add data/interim/featured_iris.csv under DVC control"
   ]
  },
  {
   "cell_type": "code",
   "execution_count": 14,
   "metadata": {},
   "outputs": [
    {
     "name": "stdout",
     "output_type": "stream",
     "text": [
      "\u001b[K\u001b[33mWARNING\u001b[39m: data 'data/interim/featured_iris.csv' exists. Removing before checkout.\n",
      "\u001b[KSaving information to 'data/interim/featured_iris.csv.dvc'.\n",
      "\u001b[K\n",
      "To track the changes with git run:\n",
      "\n",
      "\tgit add data/interim/featured_iris.csv.dvc\n",
      "\u001b[0m"
     ]
    }
   ],
   "source": [
    "!dvc add data/interim/featured_iris.csv"
   ]
  },
  {
   "cell_type": "code",
   "execution_count": 15,
   "metadata": {},
   "outputs": [
    {
     "name": "stdout",
     "output_type": "stream",
     "text": [
      "\u001b[31m??\u001b[m data/interim/featured_iris.csv.dvc\n"
     ]
    }
   ],
   "source": [
    "!git status -s data/"
   ]
  },
  {
   "cell_type": "markdown",
   "metadata": {},
   "source": [
    "## commit data/interim/featured_iris.csv.dvc file"
   ]
  },
  {
   "cell_type": "code",
   "execution_count": null,
   "metadata": {},
   "outputs": [],
   "source": [
    "%%bash\n",
    "\n",
    "git add data/interim/featured_iris.csv.dvc data/interim/.gitignore\n",
    "git commit -m \"create featured_iris.csv and put it under DVC control\""
   ]
  },
  {
   "cell_type": "markdown",
   "metadata": {},
   "source": [
    "# 3. Split dataset into train/test"
   ]
  },
  {
   "cell_type": "markdown",
   "metadata": {},
   "source": [
    "## unprotect train and test datasets (if they exist)"
   ]
  },
  {
   "cell_type": "code",
   "execution_count": 16,
   "metadata": {},
   "outputs": [
    {
     "name": "stdout",
     "output_type": "stream",
     "text": [
      "\u001b[K\u001b[31mERROR\u001b[39m: failed to unprotect 'data/processed/train_iris.csv.dvc' - can't unprotect non-existing data 'data/processed/train_iris.csv.dvc'\n",
      "\n",
      "\u001b[33mHaving any troubles?\u001b[39m. Hit us up at \u001b[34mhttps://dvc.org/support\u001b[39m, we are always happy to help!\n",
      "\u001b[0m"
     ]
    }
   ],
   "source": [
    "!dvc unprotect data/processed/train_iris.csv.dvc data/processed/test_iris.csv.dvc"
   ]
  },
  {
   "cell_type": "markdown",
   "metadata": {},
   "source": [
    "## split config"
   ]
  },
  {
   "cell_type": "code",
   "execution_count": 17,
   "metadata": {},
   "outputs": [
    {
     "name": "stdout",
     "output_type": "stream",
     "text": [
      "dataset_csv: data/interim/featured_iris.csv\n",
      "random_state: 42\n",
      "target_column: species\n",
      "test_csv: data/processed/test_iris.csv\n",
      "test_size: 0.2\n",
      "train_csv: data/processed/train_iris.csv\n"
     ]
    }
   ],
   "source": [
    "!cat experiments/split_train_test_config.yml"
   ]
  },
  {
   "cell_type": "markdown",
   "metadata": {},
   "source": [
    "## split source (raw) dataset into train/test"
   ]
  },
  {
   "cell_type": "code",
   "execution_count": 18,
   "metadata": {},
   "outputs": [],
   "source": [
    "!python3 src/pipelines/split_train_test.py --config=experiments/split_train_test_config.yml"
   ]
  },
  {
   "cell_type": "code",
   "execution_count": 19,
   "metadata": {},
   "outputs": [
    {
     "name": "stdout",
     "output_type": "stream",
     "text": [
      "test_iris.csv  train_iris.csv\n"
     ]
    }
   ],
   "source": [
    "# train and test datsets are created\n",
    "!ls data/processed/"
   ]
  },
  {
   "cell_type": "markdown",
   "metadata": {},
   "source": [
    "## add train and test datasets under DVC control"
   ]
  },
  {
   "cell_type": "code",
   "execution_count": 20,
   "metadata": {},
   "outputs": [
    {
     "name": "stdout",
     "output_type": "stream",
     "text": [
      "\u001b[K\u001b[33mWARNING\u001b[39m: data 'data/processed/train_iris.csv' exists. Removing before checkout.\n",
      "\u001b[KSaving information to 'data/processed/train_iris.csv.dvc'.\n",
      "\u001b[K\n",
      "To track the changes with git run:\n",
      "\n",
      "\tgit add data/processed/train_iris.csv.dvc\n",
      "\u001b[K\u001b[33mWARNING\u001b[39m: data 'data/processed/test_iris.csv' exists. Removing before checkout.\n",
      "\u001b[KSaving information to 'data/processed/test_iris.csv.dvc'.\n",
      "\u001b[K\n",
      "To track the changes with git run:\n",
      "\n",
      "\tgit add data/processed/train_iris.csv.dvc data/processed/test_iris.csv.dvc\n",
      "\u001b[0m"
     ]
    }
   ],
   "source": [
    "!dvc add data/processed/train_iris.csv data/processed/test_iris.csv"
   ]
  },
  {
   "cell_type": "code",
   "execution_count": 21,
   "metadata": {},
   "outputs": [
    {
     "name": "stdout",
     "output_type": "stream",
     "text": [
      "\u001b[31m??\u001b[m data/processed/test_iris.csv.dvc\n",
      "\u001b[31m??\u001b[m data/processed/train_iris.csv.dvc\n"
     ]
    }
   ],
   "source": [
    "!git status -s data/processed/"
   ]
  },
  {
   "cell_type": "markdown",
   "metadata": {},
   "source": [
    "## commit train and test datasets dvc files"
   ]
  },
  {
   "cell_type": "code",
   "execution_count": null,
   "metadata": {},
   "outputs": [],
   "source": [
    "%%bash\n",
    "\n",
    "git add data/processed/*.dvc data/processed/.gitignore\n",
    "git commit -m \"split source dataset into train/test and add them under DVC control\""
   ]
  },
  {
   "cell_type": "markdown",
   "metadata": {},
   "source": [
    "# 4. Train"
   ]
  },
  {
   "cell_type": "markdown",
   "metadata": {},
   "source": [
    "## unprotect model dvc file (if it exists)"
   ]
  },
  {
   "cell_type": "code",
   "execution_count": 22,
   "metadata": {},
   "outputs": [
    {
     "name": "stdout",
     "output_type": "stream",
     "text": [
      "\u001b[K\u001b[31mERROR\u001b[39m: failed to unprotect 'models/model.joblib.dvc' - can't unprotect non-existing data 'models/model.joblib.dvc'\n",
      "\n",
      "\u001b[33mHaving any troubles?\u001b[39m. Hit us up at \u001b[34mhttps://dvc.org/support\u001b[39m, we are always happy to help!\n",
      "\u001b[0m"
     ]
    }
   ],
   "source": [
    "!dvc unprotect models/model.joblib.dvc"
   ]
  },
  {
   "cell_type": "markdown",
   "metadata": {},
   "source": [
    "## train config"
   ]
  },
  {
   "cell_type": "code",
   "execution_count": 23,
   "metadata": {},
   "outputs": [
    {
     "name": "stdout",
     "output_type": "stream",
     "text": [
      "estimator_name: logreg\n",
      "features_columns_range:\n",
      "- sepal_length\n",
      "- petal_length_to_petal_width\n",
      "grid_search_cv_config:\n",
      "  cv: 10\n",
      "  param_grid:\n",
      "    C:\n",
      "    - 0.1\n",
      "    - 1.0\n",
      "    max_iter:\n",
      "    - 5000\n",
      "    - 6000\n",
      "    multi_class:\n",
      "    - multinomial\n",
      "    solver:\n",
      "    - lbfgs\n",
      "    - sag\n",
      "model_name: model.joblib\n",
      "models_folder: models\n",
      "target_column: species\n",
      "train_csv: data/processed/train_iris.csv\n"
     ]
    }
   ],
   "source": [
    "!cat experiments/train_clf_config.yml"
   ]
  },
  {
   "cell_type": "markdown",
   "metadata": {},
   "source": [
    "## train classifier"
   ]
  },
  {
   "cell_type": "code",
   "execution_count": 24,
   "metadata": {},
   "outputs": [
    {
     "name": "stdout",
     "output_type": "stream",
     "text": [
      "/usr/local/lib/python3.7/site-packages/sklearn/model_selection/_search.py:813: DeprecationWarning: The default of the `iid` parameter will change from True to False in version 0.22 and will be removed in 0.24. This will change numeric results when test-set sizes are unequal.\n",
      "  DeprecationWarning)\n"
     ]
    }
   ],
   "source": [
    "!python3 src/pipelines/train.py --config=experiments/train_clf_config.yml"
   ]
  },
  {
   "cell_type": "code",
   "execution_count": 25,
   "metadata": {},
   "outputs": [
    {
     "name": "stdout",
     "output_type": "stream",
     "text": [
      "model.joblib\n"
     ]
    }
   ],
   "source": [
    "# model is created\n",
    "!ls models/"
   ]
  },
  {
   "cell_type": "markdown",
   "metadata": {},
   "source": [
    "## add model under DVC control"
   ]
  },
  {
   "cell_type": "code",
   "execution_count": 26,
   "metadata": {},
   "outputs": [
    {
     "name": "stdout",
     "output_type": "stream",
     "text": [
      "\u001b[KSaving 'models/model.joblib' to '.dvc/cache/4d/d78bd9c37ae2d018abb787c7d6d03d'.\n",
      "\u001b[KSaving information to 'models/model.joblib.dvc'.\n",
      "\u001b[K\n",
      "To track the changes with git run:\n",
      "\n",
      "\tgit add models/model.joblib.dvc\n",
      "\u001b[0m"
     ]
    }
   ],
   "source": [
    "!dvc add models/model.joblib"
   ]
  },
  {
   "cell_type": "markdown",
   "metadata": {},
   "source": [
    "## commit model dvc file"
   ]
  },
  {
   "cell_type": "code",
   "execution_count": null,
   "metadata": {},
   "outputs": [],
   "source": [
    "%%bash\n",
    "\n",
    "git add models/model.joblib.dvc models/.gitignore\n",
    "git commit -m \"train classifier and put model under DVC control\""
   ]
  },
  {
   "cell_type": "markdown",
   "metadata": {},
   "source": [
    "# 4. Evaluate model "
   ]
  },
  {
   "cell_type": "markdown",
   "metadata": {},
   "source": [
    "## unprotect metrics file (if it exists)"
   ]
  },
  {
   "cell_type": "code",
   "execution_count": 27,
   "metadata": {},
   "outputs": [
    {
     "name": "stdout",
     "output_type": "stream",
     "text": [
      "\u001b[K\u001b[31mERROR\u001b[39m: failed to unprotect 'experiments/eval.txt' - can't unprotect non-existing data 'experiments/eval.txt'\n",
      "\n",
      "\u001b[33mHaving any troubles?\u001b[39m. Hit us up at \u001b[34mhttps://dvc.org/support\u001b[39m, we are always happy to help!\n",
      "\u001b[0m"
     ]
    }
   ],
   "source": [
    "!dvc unprotect experiments/eval.txt"
   ]
  },
  {
   "cell_type": "markdown",
   "metadata": {},
   "source": [
    "## evaluate config"
   ]
  },
  {
   "cell_type": "code",
   "execution_count": 28,
   "metadata": {},
   "outputs": [
    {
     "name": "stdout",
     "output_type": "stream",
     "text": [
      "dataset_csv: data/processed/test_iris.csv\n",
      "features_columns_range:\n",
      "- sepal_length\n",
      "- petal_length_to_petal_width\n",
      "metrics_file: eval.txt\n",
      "model_name: model.joblib\n",
      "models_folder: models\n",
      "reports_folder: experiments\n",
      "target_column: species\n"
     ]
    }
   ],
   "source": [
    "!cat experiments/evaluate_model_config.yml"
   ]
  },
  {
   "cell_type": "markdown",
   "metadata": {},
   "source": [
    "## evaluate"
   ]
  },
  {
   "cell_type": "code",
   "execution_count": 29,
   "metadata": {},
   "outputs": [],
   "source": [
    "!python3 src/pipelines/evaluate.py --config=experiments/evaluate_model_config.yml"
   ]
  },
  {
   "cell_type": "code",
   "execution_count": 30,
   "metadata": {},
   "outputs": [
    {
     "name": "stdout",
     "output_type": "stream",
     "text": [
      "eval.txt\t\t       split_train_test_config.yml\n",
      "evaluate_model_config.yml      split_train_test_config.yml.dvc\n",
      "evaluate_model_config.yml.dvc  train_clf_config.yml\n",
      "featurize_config.yml\t       train_clf_config.yml.dvc\n",
      "featurize_config.yml.dvc\n"
     ]
    }
   ],
   "source": [
    "# metrics file eval.txt is created\n",
    "!ls experiments"
   ]
  },
  {
   "cell_type": "code",
   "execution_count": 31,
   "metadata": {},
   "outputs": [
    {
     "name": "stdout",
     "output_type": "stream",
     "text": [
      "{\n",
      "    \"f1_score\": 1.0,\n",
      "    \"confusion_matrix\": [\n",
      "        [\n",
      "            10,\n",
      "            0,\n",
      "            0\n",
      "        ],\n",
      "        [\n",
      "            0,\n",
      "            9,\n",
      "            0\n",
      "        ],\n",
      "        [\n",
      "            0,\n",
      "            0,\n",
      "            11\n",
      "        ]\n",
      "    ]\n",
      "}"
     ]
    }
   ],
   "source": [
    "!cat experiments/eval.txt"
   ]
  },
  {
   "cell_type": "markdown",
   "metadata": {},
   "source": [
    "## add metrics file under DVC control"
   ]
  },
  {
   "cell_type": "code",
   "execution_count": 32,
   "metadata": {},
   "outputs": [
    {
     "name": "stdout",
     "output_type": "stream",
     "text": [
      "\u001b[KSaving 'experiments/eval.txt' to '.dvc/cache/5a/0cf88dc56448899be985d779ca7068'.\n",
      "\u001b[KSaving information to 'experiments/eval.txt.dvc'.\n",
      "\u001b[K\n",
      "To track the changes with git run:\n",
      "\n",
      "\tgit add experiments/eval.txt.dvc\n",
      "\u001b[0m"
     ]
    }
   ],
   "source": [
    "!dvc add experiments/eval.txt"
   ]
  },
  {
   "cell_type": "markdown",
   "metadata": {},
   "source": [
    "## commit dvc file of metrics file "
   ]
  },
  {
   "cell_type": "code",
   "execution_count": null,
   "metadata": {},
   "outputs": [],
   "source": [
    "%%bash\n",
    "\n",
    "git add experiments/eval.txt.dvc experiments/.gitignore\n",
    "git commit -m \"evaluate model and put metrics file under DVC control\""
   ]
  },
  {
   "cell_type": "code",
   "execution_count": null,
   "metadata": {},
   "outputs": [],
   "source": []
  },
  {
   "cell_type": "code",
   "execution_count": null,
   "metadata": {},
   "outputs": [],
   "source": []
  }
 ],
 "metadata": {
  "kernelspec": {
   "display_name": "Python 3",
   "language": "python",
   "name": "python3"
  },
  "language_info": {
   "codemirror_mode": {
    "name": "ipython",
    "version": 3
   },
   "file_extension": ".py",
   "mimetype": "text/x-python",
   "name": "python",
   "nbconvert_exporter": "python",
   "pygments_lexer": "ipython3",
   "version": "3.7.3"
  },
  "toc": {
   "base_numbering": 1,
   "nav_menu": {},
   "number_sections": true,
   "sideBar": true,
   "skip_h1_title": false,
   "title_cell": "Table of Contents",
   "title_sidebar": "Contents",
   "toc_cell": false,
   "toc_position": {},
   "toc_section_display": true,
   "toc_window_display": true
  },
  "varInspector": {
   "cols": {
    "lenName": 16,
    "lenType": 16,
    "lenVar": 40
   },
   "kernels_config": {
    "python": {
     "delete_cmd_postfix": "",
     "delete_cmd_prefix": "del ",
     "library": "var_list.py",
     "varRefreshCmd": "print(var_dic_list())"
    },
    "r": {
     "delete_cmd_postfix": ") ",
     "delete_cmd_prefix": "rm(",
     "library": "var_list.r",
     "varRefreshCmd": "cat(var_dic_list()) "
    }
   },
   "types_to_exclude": [
    "module",
    "function",
    "builtin_function_or_method",
    "instance",
    "_Feature"
   ],
   "window_display": false
  }
 },
 "nbformat": 4,
 "nbformat_minor": 2
}
